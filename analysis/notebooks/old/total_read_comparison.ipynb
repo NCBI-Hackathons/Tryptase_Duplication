{
 "cells": [
  {
   "cell_type": "code",
   "execution_count": 1,
   "metadata": {},
   "outputs": [],
   "source": [
    "import pandas as pd\n",
    "import matplotlib.pyplot as plt\n",
    "import seaborn as sns\n",
    "%matplotlib inline"
   ]
  },
  {
   "cell_type": "code",
   "execution_count": 2,
   "metadata": {},
   "outputs": [],
   "source": [
    "aml_df = pd.read_csv('aml.3snps.norm.csv')"
   ]
  },
  {
   "cell_type": "code",
   "execution_count": 3,
   "metadata": {},
   "outputs": [
    {
     "data": {
      "text/html": [
       "<div>\n",
       "<style scoped>\n",
       "    .dataframe tbody tr th:only-of-type {\n",
       "        vertical-align: middle;\n",
       "    }\n",
       "\n",
       "    .dataframe tbody tr th {\n",
       "        vertical-align: top;\n",
       "    }\n",
       "\n",
       "    .dataframe thead th {\n",
       "        text-align: right;\n",
       "    }\n",
       "</style>\n",
       "<table border=\"1\" class=\"dataframe\">\n",
       "  <thead>\n",
       "    <tr style=\"text-align: right;\">\n",
       "      <th></th>\n",
       "      <th>Unnamed: 0</th>\n",
       "      <th>file_location</th>\n",
       "      <th>source</th>\n",
       "      <th>alignment_count</th>\n",
       "      <th>alpha_wt_count</th>\n",
       "      <th>alpha_dup_count</th>\n",
       "      <th>beta_count</th>\n",
       "      <th>alpha_wt_zero_edit_count</th>\n",
       "      <th>alpha_dup_zero_edit_count</th>\n",
       "      <th>beta_zero_edit_count</th>\n",
       "      <th>...</th>\n",
       "      <th>alpha_dup_read_covers_snps_count</th>\n",
       "      <th>beta_read_covers_snps_count</th>\n",
       "      <th>alpha_read_covers_snps_count_exact</th>\n",
       "      <th>alpha_dup_read_covers_snps_count_exact</th>\n",
       "      <th>beta_read_covers_snps_count_exact</th>\n",
       "      <th>srr_acc</th>\n",
       "      <th>total_spots</th>\n",
       "      <th>norm_alpha_read_covers_snps_count_exact</th>\n",
       "      <th>norm_alpha_dup_read_covers_snps_count_exact</th>\n",
       "      <th>norm_beta_read_covers_snps_count_exact</th>\n",
       "    </tr>\n",
       "  </thead>\n",
       "  <tbody>\n",
       "    <tr>\n",
       "      <th>0</th>\n",
       "      <td>aml_aabspliced_SRR948685.sam.sorted.bam</td>\n",
       "      <td>../aml_results/aml_aabspliced_SRR948685.sam.so...</td>\n",
       "      <td>AML</td>\n",
       "      <td>197</td>\n",
       "      <td>8</td>\n",
       "      <td>9</td>\n",
       "      <td>180</td>\n",
       "      <td>5</td>\n",
       "      <td>6</td>\n",
       "      <td>108</td>\n",
       "      <td>...</td>\n",
       "      <td>0</td>\n",
       "      <td>4</td>\n",
       "      <td>0</td>\n",
       "      <td>0</td>\n",
       "      <td>2</td>\n",
       "      <td>SRR948685</td>\n",
       "      <td>19049578</td>\n",
       "      <td>0.000000</td>\n",
       "      <td>0.0</td>\n",
       "      <td>0.104989</td>\n",
       "    </tr>\n",
       "    <tr>\n",
       "      <th>1</th>\n",
       "      <td>aml_aabspliced_SRR948686.sam.sorted.bam</td>\n",
       "      <td>../aml_results/aml_aabspliced_SRR948686.sam.so...</td>\n",
       "      <td>AML</td>\n",
       "      <td>161</td>\n",
       "      <td>4</td>\n",
       "      <td>4</td>\n",
       "      <td>153</td>\n",
       "      <td>3</td>\n",
       "      <td>3</td>\n",
       "      <td>85</td>\n",
       "      <td>...</td>\n",
       "      <td>0</td>\n",
       "      <td>6</td>\n",
       "      <td>0</td>\n",
       "      <td>0</td>\n",
       "      <td>3</td>\n",
       "      <td>SRR948686</td>\n",
       "      <td>17009332</td>\n",
       "      <td>0.000000</td>\n",
       "      <td>0.0</td>\n",
       "      <td>0.176374</td>\n",
       "    </tr>\n",
       "    <tr>\n",
       "      <th>2</th>\n",
       "      <td>aml_aabspliced_SRR1918637.sam.sorted.bam</td>\n",
       "      <td>../aml_results/aml_aabspliced_SRR1918637.sam.s...</td>\n",
       "      <td>AML</td>\n",
       "      <td>3736</td>\n",
       "      <td>1776</td>\n",
       "      <td>1581</td>\n",
       "      <td>379</td>\n",
       "      <td>677</td>\n",
       "      <td>631</td>\n",
       "      <td>340</td>\n",
       "      <td>...</td>\n",
       "      <td>0</td>\n",
       "      <td>21</td>\n",
       "      <td>0</td>\n",
       "      <td>0</td>\n",
       "      <td>16</td>\n",
       "      <td>SRR1918637</td>\n",
       "      <td>60093421</td>\n",
       "      <td>0.000000</td>\n",
       "      <td>0.0</td>\n",
       "      <td>0.266252</td>\n",
       "    </tr>\n",
       "    <tr>\n",
       "      <th>3</th>\n",
       "      <td>aml_aabspliced_SRR1918638.sam.sorted.bam</td>\n",
       "      <td>../aml_results/aml_aabspliced_SRR1918638.sam.s...</td>\n",
       "      <td>AML</td>\n",
       "      <td>3550</td>\n",
       "      <td>1669</td>\n",
       "      <td>1482</td>\n",
       "      <td>399</td>\n",
       "      <td>582</td>\n",
       "      <td>546</td>\n",
       "      <td>350</td>\n",
       "      <td>...</td>\n",
       "      <td>0</td>\n",
       "      <td>28</td>\n",
       "      <td>1</td>\n",
       "      <td>0</td>\n",
       "      <td>21</td>\n",
       "      <td>SRR1918638</td>\n",
       "      <td>60697802</td>\n",
       "      <td>0.016475</td>\n",
       "      <td>0.0</td>\n",
       "      <td>0.345976</td>\n",
       "    </tr>\n",
       "    <tr>\n",
       "      <th>4</th>\n",
       "      <td>aml_aabspliced_SRR1918639.sam.sorted.bam</td>\n",
       "      <td>../aml_results/aml_aabspliced_SRR1918639.sam.s...</td>\n",
       "      <td>AML</td>\n",
       "      <td>182</td>\n",
       "      <td>78</td>\n",
       "      <td>70</td>\n",
       "      <td>34</td>\n",
       "      <td>39</td>\n",
       "      <td>37</td>\n",
       "      <td>26</td>\n",
       "      <td>...</td>\n",
       "      <td>0</td>\n",
       "      <td>0</td>\n",
       "      <td>0</td>\n",
       "      <td>0</td>\n",
       "      <td>0</td>\n",
       "      <td>SRR1918639</td>\n",
       "      <td>55716426</td>\n",
       "      <td>0.000000</td>\n",
       "      <td>0.0</td>\n",
       "      <td>0.000000</td>\n",
       "    </tr>\n",
       "  </tbody>\n",
       "</table>\n",
       "<p>5 rows × 21 columns</p>\n",
       "</div>"
      ],
      "text/plain": [
       "                                 Unnamed: 0  \\\n",
       "0   aml_aabspliced_SRR948685.sam.sorted.bam   \n",
       "1   aml_aabspliced_SRR948686.sam.sorted.bam   \n",
       "2  aml_aabspliced_SRR1918637.sam.sorted.bam   \n",
       "3  aml_aabspliced_SRR1918638.sam.sorted.bam   \n",
       "4  aml_aabspliced_SRR1918639.sam.sorted.bam   \n",
       "\n",
       "                                       file_location source  alignment_count  \\\n",
       "0  ../aml_results/aml_aabspliced_SRR948685.sam.so...    AML              197   \n",
       "1  ../aml_results/aml_aabspliced_SRR948686.sam.so...    AML              161   \n",
       "2  ../aml_results/aml_aabspliced_SRR1918637.sam.s...    AML             3736   \n",
       "3  ../aml_results/aml_aabspliced_SRR1918638.sam.s...    AML             3550   \n",
       "4  ../aml_results/aml_aabspliced_SRR1918639.sam.s...    AML              182   \n",
       "\n",
       "   alpha_wt_count  alpha_dup_count  beta_count  alpha_wt_zero_edit_count  \\\n",
       "0               8                9         180                         5   \n",
       "1               4                4         153                         3   \n",
       "2            1776             1581         379                       677   \n",
       "3            1669             1482         399                       582   \n",
       "4              78               70          34                        39   \n",
       "\n",
       "   alpha_dup_zero_edit_count  beta_zero_edit_count  \\\n",
       "0                          6                   108   \n",
       "1                          3                    85   \n",
       "2                        631                   340   \n",
       "3                        546                   350   \n",
       "4                         37                    26   \n",
       "\n",
       "                    ...                    alpha_dup_read_covers_snps_count  \\\n",
       "0                   ...                                                   0   \n",
       "1                   ...                                                   0   \n",
       "2                   ...                                                   0   \n",
       "3                   ...                                                   0   \n",
       "4                   ...                                                   0   \n",
       "\n",
       "   beta_read_covers_snps_count  alpha_read_covers_snps_count_exact  \\\n",
       "0                            4                                   0   \n",
       "1                            6                                   0   \n",
       "2                           21                                   0   \n",
       "3                           28                                   1   \n",
       "4                            0                                   0   \n",
       "\n",
       "   alpha_dup_read_covers_snps_count_exact  beta_read_covers_snps_count_exact  \\\n",
       "0                                       0                                  2   \n",
       "1                                       0                                  3   \n",
       "2                                       0                                 16   \n",
       "3                                       0                                 21   \n",
       "4                                       0                                  0   \n",
       "\n",
       "      srr_acc total_spots  norm_alpha_read_covers_snps_count_exact  \\\n",
       "0   SRR948685    19049578                                 0.000000   \n",
       "1   SRR948686    17009332                                 0.000000   \n",
       "2  SRR1918637    60093421                                 0.000000   \n",
       "3  SRR1918638    60697802                                 0.016475   \n",
       "4  SRR1918639    55716426                                 0.000000   \n",
       "\n",
       "   norm_alpha_dup_read_covers_snps_count_exact  \\\n",
       "0                                          0.0   \n",
       "1                                          0.0   \n",
       "2                                          0.0   \n",
       "3                                          0.0   \n",
       "4                                          0.0   \n",
       "\n",
       "   norm_beta_read_covers_snps_count_exact  \n",
       "0                                0.104989  \n",
       "1                                0.176374  \n",
       "2                                0.266252  \n",
       "3                                0.345976  \n",
       "4                                0.000000  \n",
       "\n",
       "[5 rows x 21 columns]"
      ]
     },
     "execution_count": 3,
     "metadata": {},
     "output_type": "execute_result"
    }
   ],
   "source": [
    "aml_df.head()"
   ]
  },
  {
   "cell_type": "code",
   "execution_count": 4,
   "metadata": {},
   "outputs": [
    {
     "data": {
      "text/plain": [
       "31834887.341651376"
      ]
     },
     "execution_count": 4,
     "metadata": {},
     "output_type": "execute_result"
    }
   ],
   "source": [
    "aml_df['total_spots'].mean()"
   ]
  },
  {
   "cell_type": "code",
   "execution_count": 5,
   "metadata": {},
   "outputs": [],
   "source": [
    "control_df = pd.read_csv('data.control.3snps.spots.csv')"
   ]
  },
  {
   "cell_type": "code",
   "execution_count": 6,
   "metadata": {},
   "outputs": [
    {
     "data": {
      "text/plain": [
       "24478516.89473684"
      ]
     },
     "execution_count": 6,
     "metadata": {},
     "output_type": "execute_result"
    }
   ],
   "source": [
    "control_df['total_spots'].mean()"
   ]
  },
  {
   "cell_type": "code",
   "execution_count": 7,
   "metadata": {},
   "outputs": [],
   "source": [
    "df =aml_df[['total_spots', 'source', 'alignment_count']].append(control_df[['total_spots', 'source','alignment_count']])"
   ]
  },
  {
   "cell_type": "code",
   "execution_count": 8,
   "metadata": {},
   "outputs": [
    {
     "data": {
      "text/plain": [
       "<matplotlib.axes._subplots.AxesSubplot at 0x7fac8e6f8080>"
      ]
     },
     "execution_count": 8,
     "metadata": {},
     "output_type": "execute_result"
    },
    {
     "data": {
      "image/png": "[encoded data removed]",
      "text/plain": [
       "<Figure size 432x288 with 1 Axes>"
      ]
     },
     "metadata": {},
     "output_type": "display_data"
    }
   ],
   "source": [
    "sns.barplot(x='source', y='total_spots', data=df)"
   ]
  },
  {
   "cell_type": "code",
   "execution_count": 9,
   "metadata": {},
   "outputs": [
    {
     "data": {
      "text/plain": [
       "<matplotlib.axes._subplots.AxesSubplot at 0x7fac8ed097f0>"
      ]
     },
     "execution_count": 9,
     "metadata": {},
     "output_type": "execute_result"
    },
    {
     "data": {
      "image/png": "[encoded data removed]",
      "text/plain": [
       "<Figure size 432x288 with 1 Axes>"
      ]
     },
     "metadata": {},
     "output_type": "display_data"
    }
   ],
   "source": [
    "sns.barplot(x='source', y='alignment_count', data=df)"
   ]
  },
  {
   "cell_type": "code",
   "execution_count": 10,
   "metadata": {},
   "outputs": [
    {
     "data": {
      "text/plain": [
       "86750068006"
      ]
     },
     "execution_count": 10,
     "metadata": {},
     "output_type": "execute_result"
    }
   ],
   "source": [
    "df[df['source']=='AML']['total_spots'].sum()"
   ]
  },
  {
   "cell_type": "code",
   "execution_count": 11,
   "metadata": {},
   "outputs": [
    {
     "data": {
      "text/plain": [
       "31161152007"
      ]
     },
     "execution_count": 11,
     "metadata": {},
     "output_type": "execute_result"
    }
   ],
   "source": [
    "df[df['source']=='control']['total_spots'].sum()"
   ]
  },
  {
   "cell_type": "code",
   "execution_count": 12,
   "metadata": {},
   "outputs": [
    {
     "data": {
      "text/plain": [
       "6159323"
      ]
     },
     "execution_count": 12,
     "metadata": {},
     "output_type": "execute_result"
    }
   ],
   "source": [
    "df[df['source']=='AML']['alignment_count'].sum()"
   ]
  },
  {
   "cell_type": "code",
   "execution_count": 13,
   "metadata": {},
   "outputs": [
    {
     "data": {
      "text/plain": [
       "12870"
      ]
     },
     "execution_count": 13,
     "metadata": {},
     "output_type": "execute_result"
    }
   ],
   "source": [
    "df[df['source']=='control']['alignment_count'].sum()"
   ]
  },
  {
   "cell_type": "code",
   "execution_count": null,
   "metadata": {},
   "outputs": [],
   "source": []
  }
 ],
 "metadata": {
  "kernelspec": {
   "display_name": "Python 3",
   "language": "python",
   "name": "python3"
  },
  "language_info": {
   "codemirror_mode": {
    "name": "ipython",
    "version": 3
   },
   "file_extension": ".py",
   "mimetype": "text/x-python",
   "name": "python",
   "nbconvert_exporter": "python",
   "pygments_lexer": "ipython3",
   "version": "3.6.2"
  }
 },
 "nbformat": 4,
 "nbformat_minor": 2
}
