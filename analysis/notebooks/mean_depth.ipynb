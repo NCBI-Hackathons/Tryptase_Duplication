{
 "cells": [
  {
   "cell_type": "code",
   "execution_count": 548,
   "metadata": {},
   "outputs": [],
   "source": [
    "import glob\n",
    "import csv\n",
    "import pandas as pd\n",
    "import re\n",
    "import seaborn as sns\n",
    "sns.set()"
   ]
  },
  {
   "cell_type": "code",
   "execution_count": 549,
   "metadata": {},
   "outputs": [],
   "source": [
    "results_folder = '../../results/aml_results/*.bam.depth.txt'\n",
    "sra_run_table = '../../accession_lists/Public_AML_RNA_SraRunTable.txt'\n",
    "filtered_csv = '../data_files/aml.normal.meta.filtered.csv'"
   ]
  },
  {
   "cell_type": "code",
   "execution_count": 550,
   "metadata": {},
   "outputs": [],
   "source": [
    "def get_srr_accession(df):\n",
    "    \n",
    "    pattern = re.compile(r\"[SE]RR[0-9]+\")\n",
    "    \n",
    "    file = df['file_location']\n",
    "    \n",
    "    return re.search(pattern, file).group(0)"
   ]
  },
  {
   "cell_type": "code",
   "execution_count": 551,
   "metadata": {},
   "outputs": [],
   "source": [
    "filtered_df = pd.read_csv(filtered_csv, index_col=0)"
   ]
  },
  {
   "cell_type": "code",
   "execution_count": 552,
   "metadata": {},
   "outputs": [],
   "source": [
    "filtered_df['srr_acc'] = filtered_df.apply(get_srr_accession, axis=1)"
   ]
  },
  {
   "cell_type": "code",
   "execution_count": 553,
   "metadata": {},
   "outputs": [],
   "source": [
    "filtered_dict = {}\n",
    "\n",
    "\n",
    "for index, row in filtered_df.iterrows():\n",
    "    \n",
    "    filtered_dict[row['srr_acc']] = True"
   ]
  },
  {
   "cell_type": "code",
   "execution_count": 554,
   "metadata": {},
   "outputs": [],
   "source": [
    "files = glob.glob(results_folder)\n"
   ]
  },
  {
   "cell_type": "code",
   "execution_count": 555,
   "metadata": {},
   "outputs": [],
   "source": [
    "master_list = []\n",
    "\n",
    "for file in files:\n",
    "    \n",
    "    name = str(file)\n",
    "    \n",
    "    with open(file, 'rt') as csvfile:\n",
    "    \n",
    "        spamreader = csv.reader(csvfile, delimiter='\\t', quotechar='|')\n",
    "        for row in spamreader:\n",
    "            \n",
    "            record_list =[name[0]] + row\n",
    "            \n",
    "            master_list.append(record_list)"
   ]
  },
  {
   "cell_type": "code",
   "execution_count": 556,
   "metadata": {},
   "outputs": [],
   "source": [
    "df = pd.DataFrame(columns=['file', 'transcript', 'pos', 'depth'], data=master_list)"
   ]
  },
  {
   "cell_type": "code",
   "execution_count": null,
   "metadata": {},
   "outputs": [],
   "source": []
  },
  {
   "cell_type": "code",
   "execution_count": 557,
   "metadata": {},
   "outputs": [
    {
     "data": {
      "text/html": [
       "<div>\n",
       "<style scoped>\n",
       "    .dataframe tbody tr th:only-of-type {\n",
       "        vertical-align: middle;\n",
       "    }\n",
       "\n",
       "    .dataframe tbody tr th {\n",
       "        vertical-align: top;\n",
       "    }\n",
       "\n",
       "    .dataframe thead th {\n",
       "        text-align: right;\n",
       "    }\n",
       "</style>\n",
       "<table border=\"1\" class=\"dataframe\">\n",
       "  <thead>\n",
       "    <tr style=\"text-align: right;\">\n",
       "      <th></th>\n",
       "      <th>file</th>\n",
       "      <th>transcript</th>\n",
       "      <th>pos</th>\n",
       "      <th>depth</th>\n",
       "    </tr>\n",
       "  </thead>\n",
       "  <tbody>\n",
       "    <tr>\n",
       "      <th>0</th>\n",
       "      <td>../../results/aml_results/aml_aabspliced_ERR10...</td>\n",
       "      <td>Alpha_GEX_64k_HEX</td>\n",
       "      <td>1</td>\n",
       "      <td>0</td>\n",
       "    </tr>\n",
       "    <tr>\n",
       "      <th>1</th>\n",
       "      <td>../../results/aml_results/aml_aabspliced_ERR10...</td>\n",
       "      <td>Alpha_GEX_64k_HEX</td>\n",
       "      <td>2</td>\n",
       "      <td>0</td>\n",
       "    </tr>\n",
       "    <tr>\n",
       "      <th>2</th>\n",
       "      <td>../../results/aml_results/aml_aabspliced_ERR10...</td>\n",
       "      <td>Alpha_GEX_64k_HEX</td>\n",
       "      <td>3</td>\n",
       "      <td>0</td>\n",
       "    </tr>\n",
       "    <tr>\n",
       "      <th>3</th>\n",
       "      <td>../../results/aml_results/aml_aabspliced_ERR10...</td>\n",
       "      <td>Alpha_GEX_64k_HEX</td>\n",
       "      <td>4</td>\n",
       "      <td>0</td>\n",
       "    </tr>\n",
       "    <tr>\n",
       "      <th>4</th>\n",
       "      <td>../../results/aml_results/aml_aabspliced_ERR10...</td>\n",
       "      <td>Alpha_GEX_64k_HEX</td>\n",
       "      <td>5</td>\n",
       "      <td>0</td>\n",
       "    </tr>\n",
       "  </tbody>\n",
       "</table>\n",
       "</div>"
      ],
      "text/plain": [
       "                                                file         transcript pos  \\\n",
       "0  ../../results/aml_results/aml_aabspliced_ERR10...  Alpha_GEX_64k_HEX   1   \n",
       "1  ../../results/aml_results/aml_aabspliced_ERR10...  Alpha_GEX_64k_HEX   2   \n",
       "2  ../../results/aml_results/aml_aabspliced_ERR10...  Alpha_GEX_64k_HEX   3   \n",
       "3  ../../results/aml_results/aml_aabspliced_ERR10...  Alpha_GEX_64k_HEX   4   \n",
       "4  ../../results/aml_results/aml_aabspliced_ERR10...  Alpha_GEX_64k_HEX   5   \n",
       "\n",
       "  depth  \n",
       "0     0  \n",
       "1     0  \n",
       "2     0  \n",
       "3     0  \n",
       "4     0  "
      ]
     },
     "execution_count": 557,
     "metadata": {},
     "output_type": "execute_result"
    }
   ],
   "source": [
    "df.head()"
   ]
  },
  {
   "cell_type": "code",
   "execution_count": 558,
   "metadata": {},
   "outputs": [],
   "source": [
    "def get_srr_accession(df):\n",
    "    \n",
    "    pattern = re.compile(r\"[SE]RR[0-9]+\")\n",
    "    \n",
    "    file = df['file']\n",
    "    \n",
    "    return re.search(pattern, file).group(0)"
   ]
  },
  {
   "cell_type": "code",
   "execution_count": 559,
   "metadata": {},
   "outputs": [],
   "source": [
    "df['srr_acc'] = df.apply(get_srr_accession, axis=1)"
   ]
  },
  {
   "cell_type": "code",
   "execution_count": null,
   "metadata": {},
   "outputs": [],
   "source": []
  },
  {
   "cell_type": "code",
   "execution_count": 560,
   "metadata": {},
   "outputs": [
    {
     "data": {
      "text/plain": [
       "BETA_new_GEX_FAM         695324\n",
       "Alpha_GEX_79k_dup_FAM    695324\n",
       "Alpha_GEX_64k_HEX        695324\n",
       "Name: transcript, dtype: int64"
      ]
     },
     "execution_count": 560,
     "metadata": {},
     "output_type": "execute_result"
    }
   ],
   "source": [
    "df['transcript'].value_counts()"
   ]
  },
  {
   "cell_type": "code",
   "execution_count": 561,
   "metadata": {
    "scrolled": true
   },
   "outputs": [
    {
     "data": {
      "text/html": [
       "<div>\n",
       "<style scoped>\n",
       "    .dataframe tbody tr th:only-of-type {\n",
       "        vertical-align: middle;\n",
       "    }\n",
       "\n",
       "    .dataframe tbody tr th {\n",
       "        vertical-align: top;\n",
       "    }\n",
       "\n",
       "    .dataframe thead th {\n",
       "        text-align: right;\n",
       "    }\n",
       "</style>\n",
       "<table border=\"1\" class=\"dataframe\">\n",
       "  <thead>\n",
       "    <tr style=\"text-align: right;\">\n",
       "      <th></th>\n",
       "      <th>file</th>\n",
       "      <th>transcript</th>\n",
       "      <th>pos</th>\n",
       "      <th>depth</th>\n",
       "      <th>srr_acc</th>\n",
       "    </tr>\n",
       "  </thead>\n",
       "  <tbody>\n",
       "    <tr>\n",
       "      <th>0</th>\n",
       "      <td>../../results/aml_results/aml_aabspliced_ERR10...</td>\n",
       "      <td>Alpha_GEX_64k_HEX</td>\n",
       "      <td>1</td>\n",
       "      <td>0</td>\n",
       "      <td>ERR1024259</td>\n",
       "    </tr>\n",
       "    <tr>\n",
       "      <th>1</th>\n",
       "      <td>../../results/aml_results/aml_aabspliced_ERR10...</td>\n",
       "      <td>Alpha_GEX_64k_HEX</td>\n",
       "      <td>2</td>\n",
       "      <td>0</td>\n",
       "      <td>ERR1024259</td>\n",
       "    </tr>\n",
       "    <tr>\n",
       "      <th>2</th>\n",
       "      <td>../../results/aml_results/aml_aabspliced_ERR10...</td>\n",
       "      <td>Alpha_GEX_64k_HEX</td>\n",
       "      <td>3</td>\n",
       "      <td>0</td>\n",
       "      <td>ERR1024259</td>\n",
       "    </tr>\n",
       "    <tr>\n",
       "      <th>3</th>\n",
       "      <td>../../results/aml_results/aml_aabspliced_ERR10...</td>\n",
       "      <td>Alpha_GEX_64k_HEX</td>\n",
       "      <td>4</td>\n",
       "      <td>0</td>\n",
       "      <td>ERR1024259</td>\n",
       "    </tr>\n",
       "    <tr>\n",
       "      <th>4</th>\n",
       "      <td>../../results/aml_results/aml_aabspliced_ERR10...</td>\n",
       "      <td>Alpha_GEX_64k_HEX</td>\n",
       "      <td>5</td>\n",
       "      <td>0</td>\n",
       "      <td>ERR1024259</td>\n",
       "    </tr>\n",
       "  </tbody>\n",
       "</table>\n",
       "</div>"
      ],
      "text/plain": [
       "                                                file         transcript pos  \\\n",
       "0  ../../results/aml_results/aml_aabspliced_ERR10...  Alpha_GEX_64k_HEX   1   \n",
       "1  ../../results/aml_results/aml_aabspliced_ERR10...  Alpha_GEX_64k_HEX   2   \n",
       "2  ../../results/aml_results/aml_aabspliced_ERR10...  Alpha_GEX_64k_HEX   3   \n",
       "3  ../../results/aml_results/aml_aabspliced_ERR10...  Alpha_GEX_64k_HEX   4   \n",
       "4  ../../results/aml_results/aml_aabspliced_ERR10...  Alpha_GEX_64k_HEX   5   \n",
       "\n",
       "  depth     srr_acc  \n",
       "0     0  ERR1024259  \n",
       "1     0  ERR1024259  \n",
       "2     0  ERR1024259  \n",
       "3     0  ERR1024259  \n",
       "4     0  ERR1024259  "
      ]
     },
     "execution_count": 561,
     "metadata": {},
     "output_type": "execute_result"
    }
   ],
   "source": [
    "df.head()"
   ]
  },
  {
   "cell_type": "code",
   "execution_count": 562,
   "metadata": {},
   "outputs": [],
   "source": [
    "meta_df = pd.read_csv(sra_run_table, sep='\\t')"
   ]
  },
  {
   "cell_type": "code",
   "execution_count": 563,
   "metadata": {},
   "outputs": [],
   "source": [
    "dict_mbase_map = {}\n",
    "\n",
    "\n",
    "for index, row in meta_df.iterrows():\n",
    "    \n",
    "    dict_mbase_map[row['Run']] = row['MBases']"
   ]
  },
  {
   "cell_type": "code",
   "execution_count": null,
   "metadata": {},
   "outputs": [],
   "source": []
  },
  {
   "cell_type": "code",
   "execution_count": 564,
   "metadata": {},
   "outputs": [],
   "source": [
    "def normalise(df):\n",
    "    \n",
    "    mbases = dict_mbase_map[df['srr_acc']] \n",
    "    \n",
    "    return mbases"
   ]
  },
  {
   "cell_type": "code",
   "execution_count": 565,
   "metadata": {},
   "outputs": [],
   "source": [
    "df['mbases'] = df.apply(normalise, axis=1)"
   ]
  },
  {
   "cell_type": "code",
   "execution_count": 566,
   "metadata": {},
   "outputs": [
    {
     "data": {
      "text/html": [
       "<div>\n",
       "<style scoped>\n",
       "    .dataframe tbody tr th:only-of-type {\n",
       "        vertical-align: middle;\n",
       "    }\n",
       "\n",
       "    .dataframe tbody tr th {\n",
       "        vertical-align: top;\n",
       "    }\n",
       "\n",
       "    .dataframe thead th {\n",
       "        text-align: right;\n",
       "    }\n",
       "</style>\n",
       "<table border=\"1\" class=\"dataframe\">\n",
       "  <thead>\n",
       "    <tr style=\"text-align: right;\">\n",
       "      <th></th>\n",
       "      <th>file</th>\n",
       "      <th>transcript</th>\n",
       "      <th>pos</th>\n",
       "      <th>depth</th>\n",
       "      <th>srr_acc</th>\n",
       "      <th>mbases</th>\n",
       "    </tr>\n",
       "  </thead>\n",
       "  <tbody>\n",
       "    <tr>\n",
       "      <th>0</th>\n",
       "      <td>../../results/aml_results/aml_aabspliced_ERR10...</td>\n",
       "      <td>Alpha_GEX_64k_HEX</td>\n",
       "      <td>1</td>\n",
       "      <td>0</td>\n",
       "      <td>ERR1024259</td>\n",
       "      <td>1629</td>\n",
       "    </tr>\n",
       "    <tr>\n",
       "      <th>1</th>\n",
       "      <td>../../results/aml_results/aml_aabspliced_ERR10...</td>\n",
       "      <td>Alpha_GEX_64k_HEX</td>\n",
       "      <td>2</td>\n",
       "      <td>0</td>\n",
       "      <td>ERR1024259</td>\n",
       "      <td>1629</td>\n",
       "    </tr>\n",
       "    <tr>\n",
       "      <th>2</th>\n",
       "      <td>../../results/aml_results/aml_aabspliced_ERR10...</td>\n",
       "      <td>Alpha_GEX_64k_HEX</td>\n",
       "      <td>3</td>\n",
       "      <td>0</td>\n",
       "      <td>ERR1024259</td>\n",
       "      <td>1629</td>\n",
       "    </tr>\n",
       "    <tr>\n",
       "      <th>3</th>\n",
       "      <td>../../results/aml_results/aml_aabspliced_ERR10...</td>\n",
       "      <td>Alpha_GEX_64k_HEX</td>\n",
       "      <td>4</td>\n",
       "      <td>0</td>\n",
       "      <td>ERR1024259</td>\n",
       "      <td>1629</td>\n",
       "    </tr>\n",
       "    <tr>\n",
       "      <th>4</th>\n",
       "      <td>../../results/aml_results/aml_aabspliced_ERR10...</td>\n",
       "      <td>Alpha_GEX_64k_HEX</td>\n",
       "      <td>5</td>\n",
       "      <td>0</td>\n",
       "      <td>ERR1024259</td>\n",
       "      <td>1629</td>\n",
       "    </tr>\n",
       "  </tbody>\n",
       "</table>\n",
       "</div>"
      ],
      "text/plain": [
       "                                                file         transcript pos  \\\n",
       "0  ../../results/aml_results/aml_aabspliced_ERR10...  Alpha_GEX_64k_HEX   1   \n",
       "1  ../../results/aml_results/aml_aabspliced_ERR10...  Alpha_GEX_64k_HEX   2   \n",
       "2  ../../results/aml_results/aml_aabspliced_ERR10...  Alpha_GEX_64k_HEX   3   \n",
       "3  ../../results/aml_results/aml_aabspliced_ERR10...  Alpha_GEX_64k_HEX   4   \n",
       "4  ../../results/aml_results/aml_aabspliced_ERR10...  Alpha_GEX_64k_HEX   5   \n",
       "\n",
       "   depth     srr_acc  mbases  \n",
       "0      0  ERR1024259    1629  \n",
       "1      0  ERR1024259    1629  \n",
       "2      0  ERR1024259    1629  \n",
       "3      0  ERR1024259    1629  \n",
       "4      0  ERR1024259    1629  "
      ]
     },
     "execution_count": 566,
     "metadata": {},
     "output_type": "execute_result"
    }
   ],
   "source": [
    "df['depth'] = df['depth'].astype(int)\n",
    "\n",
    "df.head()"
   ]
  },
  {
   "cell_type": "code",
   "execution_count": 567,
   "metadata": {},
   "outputs": [],
   "source": [
    "df['normalise'] = df.apply(lambda x: x['depth'] / x['mbases'], axis=1)"
   ]
  },
  {
   "cell_type": "code",
   "execution_count": 568,
   "metadata": {},
   "outputs": [],
   "source": [
    "def filter_df(df):\n",
    "    \n",
    "    if df['srr_acc'] in filtered_dict:\n",
    "        \n",
    "        return True\n",
    "    \n",
    "    else:\n",
    "        \n",
    "        return False\n",
    "    \n",
    "df['to_filter'] = df.apply(filter_df, axis=1)"
   ]
  },
  {
   "cell_type": "code",
   "execution_count": 569,
   "metadata": {},
   "outputs": [
    {
     "data": {
      "text/plain": [
       "(2085972, 8)"
      ]
     },
     "execution_count": 569,
     "metadata": {},
     "output_type": "execute_result"
    }
   ],
   "source": [
    "df.shape"
   ]
  },
  {
   "cell_type": "code",
   "execution_count": 570,
   "metadata": {},
   "outputs": [],
   "source": [
    "df = df[df['to_filter'] == False]"
   ]
  },
  {
   "cell_type": "code",
   "execution_count": 571,
   "metadata": {},
   "outputs": [],
   "source": [
    "alpha_wt = df[df['transcript']=='Alpha_GEX_64k_HEX']\n",
    "alpha_dup = df[df['transcript']=='Alpha_GEX_79k_dup_FAM']\n",
    "beta = df[df['transcript']=='BETA_new_GEX_FAM']"
   ]
  },
  {
   "cell_type": "code",
   "execution_count": 572,
   "metadata": {},
   "outputs": [],
   "source": [
    "grouped_alphawt = alpha_wt.groupby('pos').sum()\n",
    "grouped_alphadup = alpha_dup.groupby('pos').sum()\n",
    "grouped_beta = beta.groupby('pos').sum()"
   ]
  },
  {
   "cell_type": "code",
   "execution_count": 573,
   "metadata": {},
   "outputs": [],
   "source": [
    "grouped_alphawt['pos'] = grouped_alphawt.index\n",
    "grouped_alphadup['pos'] = grouped_alphadup.index\n",
    "grouped_beta['pos'] = grouped_beta.index"
   ]
  },
  {
   "cell_type": "code",
   "execution_count": 574,
   "metadata": {},
   "outputs": [],
   "source": [
    "grouped_alphawt['pos'] = grouped_alphawt['pos'].astype(int)\n",
    "grouped_alphadup['pos'] = grouped_alphadup['pos'].astype(int)\n",
    "grouped_beta['pos'] = grouped_beta['pos'].astype(int)"
   ]
  },
  {
   "cell_type": "code",
   "execution_count": 575,
   "metadata": {},
   "outputs": [],
   "source": [
    "grouped_alphawt = grouped_alphawt.sort_values('pos')\n",
    "grouped_alphadup = grouped_alphadup.sort_values('pos')\n",
    "grouped_beta = grouped_beta.sort_values('pos')"
   ]
  },
  {
   "cell_type": "code",
   "execution_count": 576,
   "metadata": {},
   "outputs": [
    {
     "data": {
      "text/plain": [
       "Text(0.5,1,'Coverage over Reference')"
      ]
     },
     "execution_count": 576,
     "metadata": {},
     "output_type": "execute_result"
    },
    {
     "data": {
      "image/png": "[encoded data removed]",
      "text/plain": [
       "<Figure size 1152x576 with 1 Axes>"
      ]
     },
     "metadata": {},
     "output_type": "display_data"
    }
   ],
   "source": [
    "ax = grouped_alphawt.plot(x='pos', y='depth', use_index=False, figsize=(16,8))\n",
    "grouped_alphadup.plot(x='pos', y='depth', ax=ax,use_index=False)\n",
    "grouped_beta.plot(x='pos', y='depth', ax=ax,use_index=False)\n",
    "\n",
    "ax.legend([\"alpha_wt\", \"alpha_dup\", 'beta'])\n",
    "ax.set_xlabel('Position')\n",
    "ax.set_ylabel('Coverage')\n",
    "ax.set_title('Coverage over Reference')"
   ]
  },
  {
   "cell_type": "code",
   "execution_count": null,
   "metadata": {},
   "outputs": [],
   "source": []
  },
  {
   "cell_type": "code",
   "execution_count": null,
   "metadata": {},
   "outputs": [],
   "source": []
  },
  {
   "cell_type": "code",
   "execution_count": null,
   "metadata": {},
   "outputs": [],
   "source": []
  },
  {
   "cell_type": "code",
   "execution_count": null,
   "metadata": {},
   "outputs": [],
   "source": []
  },
  {
   "cell_type": "code",
   "execution_count": null,
   "metadata": {},
   "outputs": [],
   "source": []
  }
 ],
 "metadata": {
  "kernelspec": {
   "display_name": "Python 3",
   "language": "python",
   "name": "python3"
  },
  "language_info": {
   "codemirror_mode": {
    "name": "ipython",
    "version": 3
   },
   "file_extension": ".py",
   "mimetype": "text/x-python",
   "name": "python",
   "nbconvert_exporter": "python",
   "pygments_lexer": "ipython3",
   "version": "3.6.2"
  }
 },
 "nbformat": 4,
 "nbformat_minor": 2
}
