{
 "cells": [
  {
   "cell_type": "code",
   "execution_count": 110,
   "metadata": {},
   "outputs": [],
   "source": [
    "import pandas as pd\n",
    "import matplotlib\n",
    "import matplotlib.pyplot as plt\n",
    "import seaborn as sns\n",
    "sns.set()\n",
    "%matplotlib inline"
   ]
  },
  {
   "cell_type": "code",
   "execution_count": 17,
   "metadata": {},
   "outputs": [],
   "source": [
    "aml_df = pd.read_csv('../data_files/aml.3snps.norm.csv', index_col=0)\n",
    "allergy_df = pd.read_csv('../data_files/allergy.allergy.normal.csv', index_col=0)\n",
    "diabetes_df = pd.read_csv('../data_files/diabetes.diabetes.normal.csv', index_col=0)\n",
    "diabetes_control_df = pd.read_csv('../data_files/diabetes_control.diabetes_control.normal.csv', index_col=0)\n",
    "ms_df = pd.read_csv('../data_files/ms.ms.normal.csv', index_col=0)\n",
    "control_df = pd.read_csv('../data_files/control.control.normal.csv', index_col=0)"
   ]
  },
  {
   "cell_type": "code",
   "execution_count": 22,
   "metadata": {},
   "outputs": [],
   "source": [
    "master_df = aml_df.append([allergy_df,diabetes_df,diabetes_control_df,ms_df,control_df])"
   ]
  },
  {
   "cell_type": "code",
   "execution_count": 34,
   "metadata": {},
   "outputs": [
    {
     "data": {
      "text/plain": [
       "(7947, 20)"
      ]
     },
     "execution_count": 34,
     "metadata": {},
     "output_type": "execute_result"
    }
   ],
   "source": [
    "master_df.shape"
   ]
  },
  {
   "cell_type": "code",
   "execution_count": 37,
   "metadata": {},
   "outputs": [
    {
     "data": {
      "text/plain": [
       "Index(['file_location', 'source', 'alignment_count', 'alpha_wt_count',\n",
       "       'alpha_dup_count', 'beta_count', 'alpha_wt_zero_edit_count',\n",
       "       'alpha_dup_zero_edit_count', 'beta_zero_edit_count',\n",
       "       'alpha_read_covers_snps_count', 'alpha_dup_read_covers_snps_count',\n",
       "       'beta_read_covers_snps_count', 'alpha_read_covers_snps_count_exact',\n",
       "       'alpha_dup_read_covers_snps_count_exact',\n",
       "       'beta_read_covers_snps_count_exact', 'srr_acc', 'total_spots',\n",
       "       'norm_alpha_read_covers_snps_count_exact',\n",
       "       'norm_alpha_dup_read_covers_snps_count_exact',\n",
       "       'norm_beta_read_covers_snps_count_exact'],\n",
       "      dtype='object')"
      ]
     },
     "execution_count": 37,
     "metadata": {},
     "output_type": "execute_result"
    }
   ],
   "source": [
    "master_df.columns"
   ]
  },
  {
   "cell_type": "code",
   "execution_count": 59,
   "metadata": {},
   "outputs": [
    {
     "data": {
      "text/html": [
       "<div>\n",
       "<style scoped>\n",
       "    .dataframe tbody tr th:only-of-type {\n",
       "        vertical-align: middle;\n",
       "    }\n",
       "\n",
       "    .dataframe tbody tr th {\n",
       "        vertical-align: top;\n",
       "    }\n",
       "\n",
       "    .dataframe thead th {\n",
       "        text-align: right;\n",
       "    }\n",
       "</style>\n",
       "<table border=\"1\" class=\"dataframe\">\n",
       "  <thead>\n",
       "    <tr style=\"text-align: right;\">\n",
       "      <th></th>\n",
       "      <th>alignment_count</th>\n",
       "      <th>alpha_wt_count</th>\n",
       "      <th>alpha_dup_count</th>\n",
       "      <th>beta_count</th>\n",
       "      <th>alpha_wt_zero_edit_count</th>\n",
       "      <th>alpha_dup_zero_edit_count</th>\n",
       "      <th>beta_zero_edit_count</th>\n",
       "      <th>alpha_read_covers_snps_count</th>\n",
       "      <th>alpha_dup_read_covers_snps_count</th>\n",
       "      <th>beta_read_covers_snps_count</th>\n",
       "      <th>alpha_read_covers_snps_count_exact</th>\n",
       "      <th>alpha_dup_read_covers_snps_count_exact</th>\n",
       "      <th>beta_read_covers_snps_count_exact</th>\n",
       "      <th>total_spots</th>\n",
       "      <th>norm_alpha_read_covers_snps_count_exact</th>\n",
       "      <th>norm_alpha_dup_read_covers_snps_count_exact</th>\n",
       "      <th>norm_beta_read_covers_snps_count_exact</th>\n",
       "    </tr>\n",
       "  </thead>\n",
       "  <tbody>\n",
       "    <tr>\n",
       "      <th>count</th>\n",
       "      <td>7947.000000</td>\n",
       "      <td>7947.000000</td>\n",
       "      <td>7947.000000</td>\n",
       "      <td>7947.000000</td>\n",
       "      <td>7947.000000</td>\n",
       "      <td>7947.000000</td>\n",
       "      <td>7947.000000</td>\n",
       "      <td>7947.000000</td>\n",
       "      <td>7947.000000</td>\n",
       "      <td>7947.000000</td>\n",
       "      <td>7947.000000</td>\n",
       "      <td>7947.000000</td>\n",
       "      <td>7947.000000</td>\n",
       "      <td>7.947000e+03</td>\n",
       "      <td>7947.000000</td>\n",
       "      <td>7947.000000</td>\n",
       "      <td>7947.000000</td>\n",
       "    </tr>\n",
       "    <tr>\n",
       "      <th>mean</th>\n",
       "      <td>857.216937</td>\n",
       "      <td>325.198565</td>\n",
       "      <td>332.202718</td>\n",
       "      <td>199.815654</td>\n",
       "      <td>246.600227</td>\n",
       "      <td>255.782434</td>\n",
       "      <td>138.968416</td>\n",
       "      <td>9.575186</td>\n",
       "      <td>7.689065</td>\n",
       "      <td>13.018875</td>\n",
       "      <td>4.619227</td>\n",
       "      <td>6.308041</td>\n",
       "      <td>10.712722</td>\n",
       "      <td>1.575436e+07</td>\n",
       "      <td>0.321635</td>\n",
       "      <td>0.542935</td>\n",
       "      <td>0.696346</td>\n",
       "    </tr>\n",
       "    <tr>\n",
       "      <th>std</th>\n",
       "      <td>5199.917644</td>\n",
       "      <td>2272.763254</td>\n",
       "      <td>2609.291385</td>\n",
       "      <td>948.678642</td>\n",
       "      <td>1928.170429</td>\n",
       "      <td>2181.060800</td>\n",
       "      <td>664.203616</td>\n",
       "      <td>60.803751</td>\n",
       "      <td>106.010616</td>\n",
       "      <td>76.012267</td>\n",
       "      <td>35.166559</td>\n",
       "      <td>89.223504</td>\n",
       "      <td>64.482551</td>\n",
       "      <td>2.211202e+07</td>\n",
       "      <td>6.450402</td>\n",
       "      <td>14.576954</td>\n",
       "      <td>11.403442</td>\n",
       "    </tr>\n",
       "    <tr>\n",
       "      <th>min</th>\n",
       "      <td>0.000000</td>\n",
       "      <td>0.000000</td>\n",
       "      <td>0.000000</td>\n",
       "      <td>0.000000</td>\n",
       "      <td>0.000000</td>\n",
       "      <td>0.000000</td>\n",
       "      <td>0.000000</td>\n",
       "      <td>0.000000</td>\n",
       "      <td>0.000000</td>\n",
       "      <td>0.000000</td>\n",
       "      <td>0.000000</td>\n",
       "      <td>0.000000</td>\n",
       "      <td>0.000000</td>\n",
       "      <td>3.200000e+01</td>\n",
       "      <td>0.000000</td>\n",
       "      <td>0.000000</td>\n",
       "      <td>0.000000</td>\n",
       "    </tr>\n",
       "    <tr>\n",
       "      <th>25%</th>\n",
       "      <td>0.000000</td>\n",
       "      <td>0.000000</td>\n",
       "      <td>0.000000</td>\n",
       "      <td>0.000000</td>\n",
       "      <td>0.000000</td>\n",
       "      <td>0.000000</td>\n",
       "      <td>0.000000</td>\n",
       "      <td>0.000000</td>\n",
       "      <td>0.000000</td>\n",
       "      <td>0.000000</td>\n",
       "      <td>0.000000</td>\n",
       "      <td>0.000000</td>\n",
       "      <td>0.000000</td>\n",
       "      <td>5.531810e+05</td>\n",
       "      <td>0.000000</td>\n",
       "      <td>0.000000</td>\n",
       "      <td>0.000000</td>\n",
       "    </tr>\n",
       "    <tr>\n",
       "      <th>50%</th>\n",
       "      <td>1.000000</td>\n",
       "      <td>0.000000</td>\n",
       "      <td>0.000000</td>\n",
       "      <td>0.000000</td>\n",
       "      <td>0.000000</td>\n",
       "      <td>0.000000</td>\n",
       "      <td>0.000000</td>\n",
       "      <td>0.000000</td>\n",
       "      <td>0.000000</td>\n",
       "      <td>0.000000</td>\n",
       "      <td>0.000000</td>\n",
       "      <td>0.000000</td>\n",
       "      <td>0.000000</td>\n",
       "      <td>6.270497e+06</td>\n",
       "      <td>0.000000</td>\n",
       "      <td>0.000000</td>\n",
       "      <td>0.000000</td>\n",
       "    </tr>\n",
       "    <tr>\n",
       "      <th>75%</th>\n",
       "      <td>86.000000</td>\n",
       "      <td>17.000000</td>\n",
       "      <td>17.000000</td>\n",
       "      <td>19.000000</td>\n",
       "      <td>11.000000</td>\n",
       "      <td>11.000000</td>\n",
       "      <td>15.000000</td>\n",
       "      <td>0.000000</td>\n",
       "      <td>0.000000</td>\n",
       "      <td>0.000000</td>\n",
       "      <td>0.000000</td>\n",
       "      <td>0.000000</td>\n",
       "      <td>0.000000</td>\n",
       "      <td>2.443907e+07</td>\n",
       "      <td>0.000000</td>\n",
       "      <td>0.000000</td>\n",
       "      <td>0.000000</td>\n",
       "    </tr>\n",
       "    <tr>\n",
       "      <th>max</th>\n",
       "      <td>173788.000000</td>\n",
       "      <td>82692.000000</td>\n",
       "      <td>90119.000000</td>\n",
       "      <td>20264.000000</td>\n",
       "      <td>72328.000000</td>\n",
       "      <td>78456.000000</td>\n",
       "      <td>13563.000000</td>\n",
       "      <td>1916.000000</td>\n",
       "      <td>4060.000000</td>\n",
       "      <td>2020.000000</td>\n",
       "      <td>1007.000000</td>\n",
       "      <td>3477.000000</td>\n",
       "      <td>1575.000000</td>\n",
       "      <td>4.511781e+08</td>\n",
       "      <td>331.183806</td>\n",
       "      <td>875.465388</td>\n",
       "      <td>488.631844</td>\n",
       "    </tr>\n",
       "  </tbody>\n",
       "</table>\n",
       "</div>"
      ],
      "text/plain": [
       "       alignment_count  alpha_wt_count  alpha_dup_count    beta_count  \\\n",
       "count      7947.000000     7947.000000      7947.000000   7947.000000   \n",
       "mean        857.216937      325.198565       332.202718    199.815654   \n",
       "std        5199.917644     2272.763254      2609.291385    948.678642   \n",
       "min           0.000000        0.000000         0.000000      0.000000   \n",
       "25%           0.000000        0.000000         0.000000      0.000000   \n",
       "50%           1.000000        0.000000         0.000000      0.000000   \n",
       "75%          86.000000       17.000000        17.000000     19.000000   \n",
       "max      173788.000000    82692.000000     90119.000000  20264.000000   \n",
       "\n",
       "       alpha_wt_zero_edit_count  alpha_dup_zero_edit_count  \\\n",
       "count               7947.000000                7947.000000   \n",
       "mean                 246.600227                 255.782434   \n",
       "std                 1928.170429                2181.060800   \n",
       "min                    0.000000                   0.000000   \n",
       "25%                    0.000000                   0.000000   \n",
       "50%                    0.000000                   0.000000   \n",
       "75%                   11.000000                  11.000000   \n",
       "max                72328.000000               78456.000000   \n",
       "\n",
       "       beta_zero_edit_count  alpha_read_covers_snps_count  \\\n",
       "count           7947.000000                   7947.000000   \n",
       "mean             138.968416                      9.575186   \n",
       "std              664.203616                     60.803751   \n",
       "min                0.000000                      0.000000   \n",
       "25%                0.000000                      0.000000   \n",
       "50%                0.000000                      0.000000   \n",
       "75%               15.000000                      0.000000   \n",
       "max            13563.000000                   1916.000000   \n",
       "\n",
       "       alpha_dup_read_covers_snps_count  beta_read_covers_snps_count  \\\n",
       "count                       7947.000000                  7947.000000   \n",
       "mean                           7.689065                    13.018875   \n",
       "std                          106.010616                    76.012267   \n",
       "min                            0.000000                     0.000000   \n",
       "25%                            0.000000                     0.000000   \n",
       "50%                            0.000000                     0.000000   \n",
       "75%                            0.000000                     0.000000   \n",
       "max                         4060.000000                  2020.000000   \n",
       "\n",
       "       alpha_read_covers_snps_count_exact  \\\n",
       "count                         7947.000000   \n",
       "mean                             4.619227   \n",
       "std                             35.166559   \n",
       "min                              0.000000   \n",
       "25%                              0.000000   \n",
       "50%                              0.000000   \n",
       "75%                              0.000000   \n",
       "max                           1007.000000   \n",
       "\n",
       "       alpha_dup_read_covers_snps_count_exact  \\\n",
       "count                             7947.000000   \n",
       "mean                                 6.308041   \n",
       "std                                 89.223504   \n",
       "min                                  0.000000   \n",
       "25%                                  0.000000   \n",
       "50%                                  0.000000   \n",
       "75%                                  0.000000   \n",
       "max                               3477.000000   \n",
       "\n",
       "       beta_read_covers_snps_count_exact   total_spots  \\\n",
       "count                        7947.000000  7.947000e+03   \n",
       "mean                           10.712722  1.575436e+07   \n",
       "std                            64.482551  2.211202e+07   \n",
       "min                             0.000000  3.200000e+01   \n",
       "25%                             0.000000  5.531810e+05   \n",
       "50%                             0.000000  6.270497e+06   \n",
       "75%                             0.000000  2.443907e+07   \n",
       "max                          1575.000000  4.511781e+08   \n",
       "\n",
       "       norm_alpha_read_covers_snps_count_exact  \\\n",
       "count                              7947.000000   \n",
       "mean                                  0.321635   \n",
       "std                                   6.450402   \n",
       "min                                   0.000000   \n",
       "25%                                   0.000000   \n",
       "50%                                   0.000000   \n",
       "75%                                   0.000000   \n",
       "max                                 331.183806   \n",
       "\n",
       "       norm_alpha_dup_read_covers_snps_count_exact  \\\n",
       "count                                  7947.000000   \n",
       "mean                                      0.542935   \n",
       "std                                      14.576954   \n",
       "min                                       0.000000   \n",
       "25%                                       0.000000   \n",
       "50%                                       0.000000   \n",
       "75%                                       0.000000   \n",
       "max                                     875.465388   \n",
       "\n",
       "       norm_beta_read_covers_snps_count_exact  \n",
       "count                             7947.000000  \n",
       "mean                                 0.696346  \n",
       "std                                 11.403442  \n",
       "min                                  0.000000  \n",
       "25%                                  0.000000  \n",
       "50%                                  0.000000  \n",
       "75%                                  0.000000  \n",
       "max                                488.631844  "
      ]
     },
     "execution_count": 59,
     "metadata": {},
     "output_type": "execute_result"
    }
   ],
   "source": [
    "master_df.describe()"
   ]
  },
  {
   "cell_type": "code",
   "execution_count": 48,
   "metadata": {},
   "outputs": [
    {
     "data": {
      "text/plain": [
       "<matplotlib.axes._subplots.AxesSubplot at 0x7f75a02a00f0>"
      ]
     },
     "execution_count": 48,
     "metadata": {},
     "output_type": "execute_result"
    },
    {
     "data": {
      "image/png": "[encoded data removed]",
      "text/plain": [
       "<Figure size 576x576 with 1 Axes>"
      ]
     },
     "metadata": {},
     "output_type": "display_data"
    }
   ],
   "source": [
    "#How many of each type do we have?\n",
    "fig, ax = plt.subplots(figsize=(8,8))\n",
    "sns.countplot(x='source', data=master_df)"
   ]
  },
  {
   "cell_type": "code",
   "execution_count": 61,
   "metadata": {},
   "outputs": [
    {
     "data": {
      "image/png": "[encoded data removed]",
      "text/plain": [
       "<Figure size 576x576 with 3 Axes>"
      ]
     },
     "metadata": {},
     "output_type": "display_data"
    }
   ],
   "source": [
    "#What are the expression levels of each type?\n",
    "fig, ax = plt.subplots(3,1,figsize=(8,8))\n",
    "sns.barplot(x='source', y='norm_alpha_read_covers_snps_count_exact', data=master_df, ax=ax[0])\n",
    "sns.barplot(x='source', y='norm_alpha_dup_read_covers_snps_count_exact', data=master_df, ax=ax[1])\n",
    "sns.barplot(x='source', y='norm_beta_read_covers_snps_count_exact', data=master_df, ax=ax[2])\n",
    "\n",
    "ax[0].set_ylabel('Alpha WT (RPM)')\n",
    "ax[1].set_ylabel('Alpha DUP (RPM)')\n",
    "ax[2].set_ylabel('Beta (RPM)')\n",
    "plt.tight_layout()"
   ]
  },
  {
   "cell_type": "code",
   "execution_count": 129,
   "metadata": {},
   "outputs": [
    {
     "data": {
      "text/plain": [
       "Text(0.5,1,'Tryptase Variant Expression in AML RNA Seq')"
      ]
     },
     "execution_count": 129,
     "metadata": {},
     "output_type": "execute_result"
    },
    {
     "data": {
      "image/png": "[encoded data removed]",
      "text/plain": [
       "<Figure size 720x720 with 1 Axes>"
      ]
     },
     "metadata": {},
     "output_type": "display_data"
    }
   ],
   "source": [
    "labels = master_df['source'].astype('category').cat.codes.as_matrix()\n",
    "\n",
    "\n",
    "fig, ax = plt.subplots(figsize=(10,10))\n",
    "\n",
    "colours = ['red', 'blue', 'green', 'purple', 'yellow']\n",
    "\n",
    "cats =['AML', 'allergy', 'diabetes', 'diabetes_normal', 'control']\n",
    "\n",
    "for i, cat in enumerate(cats):\n",
    "\n",
    "    master_df.plot(x='norm_alpha_read_covers_snps_count_exact',\n",
    "        y='norm_alpha_dup_read_covers_snps_count_exact',\n",
    "        kind='scatter',\n",
    "        ax=ax,\n",
    "        color='red'\n",
    "    )\n",
    "\n",
    "ax.set_xlabel('alpha wt (RPM)')\n",
    "ax.set_ylabel('alpha dup (RPM)')\n",
    "ax.set_title('Tryptase Variant Expression in AML RNA Seq')"
   ]
  },
  {
   "cell_type": "code",
   "execution_count": null,
   "metadata": {},
   "outputs": [],
   "source": []
  },
  {
   "cell_type": "code",
   "execution_count": null,
   "metadata": {},
   "outputs": [],
   "source": []
  },
  {
   "cell_type": "code",
   "execution_count": null,
   "metadata": {},
   "outputs": [],
   "source": []
  },
  {
   "cell_type": "code",
   "execution_count": null,
   "metadata": {},
   "outputs": [],
   "source": []
  },
  {
   "cell_type": "code",
   "execution_count": null,
   "metadata": {},
   "outputs": [],
   "source": []
  }
 ],
 "metadata": {
  "kernelspec": {
   "display_name": "Python 3",
   "language": "python",
   "name": "python3"
  },
  "language_info": {
   "codemirror_mode": {
    "name": "ipython",
    "version": 3
   },
   "file_extension": ".py",
   "mimetype": "text/x-python",
   "name": "python",
   "nbconvert_exporter": "python",
   "pygments_lexer": "ipython3",
   "version": "3.6.2"
  }
 },
 "nbformat": 4,
 "nbformat_minor": 2
}
