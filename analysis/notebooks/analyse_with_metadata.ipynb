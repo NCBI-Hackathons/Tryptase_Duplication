{
 "cells": [
  {
   "cell_type": "code",
   "execution_count": 108,
   "metadata": {},
   "outputs": [],
   "source": [
    "import pandas as pd\n",
    "import seaborn as sns\n",
    "sns.set()"
   ]
  },
  {
   "cell_type": "code",
   "execution_count": 109,
   "metadata": {},
   "outputs": [],
   "source": [
    "df = pd.read_csv('../data_files/aml.normal.meta.csv', index_col=0)"
   ]
  },
  {
   "cell_type": "code",
   "execution_count": 110,
   "metadata": {},
   "outputs": [
    {
     "data": {
      "text/html": [
       "<div>\n",
       "<style scoped>\n",
       "    .dataframe tbody tr th:only-of-type {\n",
       "        vertical-align: middle;\n",
       "    }\n",
       "\n",
       "    .dataframe tbody tr th {\n",
       "        vertical-align: top;\n",
       "    }\n",
       "\n",
       "    .dataframe thead th {\n",
       "        text-align: right;\n",
       "    }\n",
       "</style>\n",
       "<table border=\"1\" class=\"dataframe\">\n",
       "  <thead>\n",
       "    <tr style=\"text-align: right;\">\n",
       "      <th></th>\n",
       "      <th>Assay_Type</th>\n",
       "      <th>AssemblyName</th>\n",
       "      <th>AvgSpotLen</th>\n",
       "      <th>BioProject</th>\n",
       "      <th>BioSample</th>\n",
       "      <th>Center_Name</th>\n",
       "      <th>DATASTORE_filetype</th>\n",
       "      <th>Experiment</th>\n",
       "      <th>InsertSize</th>\n",
       "      <th>Instrument</th>\n",
       "      <th>...</th>\n",
       "      <th>alpha_read_covers_snps_count</th>\n",
       "      <th>alpha_dup_read_covers_snps_count</th>\n",
       "      <th>beta_read_covers_snps_count</th>\n",
       "      <th>alpha_read_covers_snps_count_exact</th>\n",
       "      <th>alpha_dup_read_covers_snps_count_exact</th>\n",
       "      <th>beta_read_covers_snps_count_exact</th>\n",
       "      <th>total_spots</th>\n",
       "      <th>norm_alpha_read_covers_snps_count_exact</th>\n",
       "      <th>norm_alpha_dup_read_covers_snps_count_exact</th>\n",
       "      <th>norm_beta_read_covers_snps_count_exact</th>\n",
       "    </tr>\n",
       "  </thead>\n",
       "  <tbody>\n",
       "    <tr>\n",
       "      <th>SRR330925</th>\n",
       "      <td>RNA-Seq</td>\n",
       "      <td>NaN</td>\n",
       "      <td>36</td>\n",
       "      <td>PRJNA145991</td>\n",
       "      <td>SAMN00709303</td>\n",
       "      <td>GEO</td>\n",
       "      <td>sra</td>\n",
       "      <td>SRX091763</td>\n",
       "      <td>0</td>\n",
       "      <td>Illumina Genome Analyzer II</td>\n",
       "      <td>...</td>\n",
       "      <td>0</td>\n",
       "      <td>0</td>\n",
       "      <td>0</td>\n",
       "      <td>0</td>\n",
       "      <td>0</td>\n",
       "      <td>0</td>\n",
       "      <td>11774476</td>\n",
       "      <td>0.0</td>\n",
       "      <td>0.0</td>\n",
       "      <td>0.0</td>\n",
       "    </tr>\n",
       "    <tr>\n",
       "      <th>SRR330926</th>\n",
       "      <td>RNA-Seq</td>\n",
       "      <td>NaN</td>\n",
       "      <td>36</td>\n",
       "      <td>PRJNA145991</td>\n",
       "      <td>SAMN00709304</td>\n",
       "      <td>GEO</td>\n",
       "      <td>sra</td>\n",
       "      <td>SRX091764</td>\n",
       "      <td>0</td>\n",
       "      <td>Illumina Genome Analyzer II</td>\n",
       "      <td>...</td>\n",
       "      <td>0</td>\n",
       "      <td>0</td>\n",
       "      <td>0</td>\n",
       "      <td>0</td>\n",
       "      <td>0</td>\n",
       "      <td>0</td>\n",
       "      <td>12876266</td>\n",
       "      <td>0.0</td>\n",
       "      <td>0.0</td>\n",
       "      <td>0.0</td>\n",
       "    </tr>\n",
       "    <tr>\n",
       "      <th>SRR330927</th>\n",
       "      <td>RNA-Seq</td>\n",
       "      <td>NaN</td>\n",
       "      <td>36</td>\n",
       "      <td>PRJNA145991</td>\n",
       "      <td>SAMN00709305</td>\n",
       "      <td>GEO</td>\n",
       "      <td>sra</td>\n",
       "      <td>SRX091765</td>\n",
       "      <td>0</td>\n",
       "      <td>Illumina Genome Analyzer II</td>\n",
       "      <td>...</td>\n",
       "      <td>0</td>\n",
       "      <td>0</td>\n",
       "      <td>0</td>\n",
       "      <td>0</td>\n",
       "      <td>0</td>\n",
       "      <td>0</td>\n",
       "      <td>8332581</td>\n",
       "      <td>0.0</td>\n",
       "      <td>0.0</td>\n",
       "      <td>0.0</td>\n",
       "    </tr>\n",
       "    <tr>\n",
       "      <th>SRR330928</th>\n",
       "      <td>RNA-Seq</td>\n",
       "      <td>NaN</td>\n",
       "      <td>36</td>\n",
       "      <td>PRJNA145991</td>\n",
       "      <td>SAMN00709306</td>\n",
       "      <td>GEO</td>\n",
       "      <td>sra</td>\n",
       "      <td>SRX091766</td>\n",
       "      <td>0</td>\n",
       "      <td>Illumina Genome Analyzer II</td>\n",
       "      <td>...</td>\n",
       "      <td>0</td>\n",
       "      <td>0</td>\n",
       "      <td>0</td>\n",
       "      <td>0</td>\n",
       "      <td>0</td>\n",
       "      <td>0</td>\n",
       "      <td>10696951</td>\n",
       "      <td>0.0</td>\n",
       "      <td>0.0</td>\n",
       "      <td>0.0</td>\n",
       "    </tr>\n",
       "    <tr>\n",
       "      <th>SRR330929</th>\n",
       "      <td>RNA-Seq</td>\n",
       "      <td>NaN</td>\n",
       "      <td>36</td>\n",
       "      <td>PRJNA145991</td>\n",
       "      <td>SAMN00709307</td>\n",
       "      <td>GEO</td>\n",
       "      <td>sra</td>\n",
       "      <td>SRX091767</td>\n",
       "      <td>0</td>\n",
       "      <td>Illumina Genome Analyzer II</td>\n",
       "      <td>...</td>\n",
       "      <td>0</td>\n",
       "      <td>0</td>\n",
       "      <td>0</td>\n",
       "      <td>0</td>\n",
       "      <td>0</td>\n",
       "      <td>0</td>\n",
       "      <td>10473042</td>\n",
       "      <td>0.0</td>\n",
       "      <td>0.0</td>\n",
       "      <td>0.0</td>\n",
       "    </tr>\n",
       "  </tbody>\n",
       "</table>\n",
       "<p>5 rows × 47 columns</p>\n",
       "</div>"
      ],
      "text/plain": [
       "          Assay_Type AssemblyName  AvgSpotLen   BioProject     BioSample  \\\n",
       "SRR330925    RNA-Seq          NaN          36  PRJNA145991  SAMN00709303   \n",
       "SRR330926    RNA-Seq          NaN          36  PRJNA145991  SAMN00709304   \n",
       "SRR330927    RNA-Seq          NaN          36  PRJNA145991  SAMN00709305   \n",
       "SRR330928    RNA-Seq          NaN          36  PRJNA145991  SAMN00709306   \n",
       "SRR330929    RNA-Seq          NaN          36  PRJNA145991  SAMN00709307   \n",
       "\n",
       "          Center_Name DATASTORE_filetype Experiment  InsertSize  \\\n",
       "SRR330925         GEO                sra  SRX091763           0   \n",
       "SRR330926         GEO                sra  SRX091764           0   \n",
       "SRR330927         GEO                sra  SRX091765           0   \n",
       "SRR330928         GEO                sra  SRX091766           0   \n",
       "SRR330929         GEO                sra  SRX091767           0   \n",
       "\n",
       "                            Instrument                  ...                    \\\n",
       "SRR330925  Illumina Genome Analyzer II                  ...                     \n",
       "SRR330926  Illumina Genome Analyzer II                  ...                     \n",
       "SRR330927  Illumina Genome Analyzer II                  ...                     \n",
       "SRR330928  Illumina Genome Analyzer II                  ...                     \n",
       "SRR330929  Illumina Genome Analyzer II                  ...                     \n",
       "\n",
       "          alpha_read_covers_snps_count alpha_dup_read_covers_snps_count  \\\n",
       "SRR330925                            0                                0   \n",
       "SRR330926                            0                                0   \n",
       "SRR330927                            0                                0   \n",
       "SRR330928                            0                                0   \n",
       "SRR330929                            0                                0   \n",
       "\n",
       "          beta_read_covers_snps_count alpha_read_covers_snps_count_exact  \\\n",
       "SRR330925                           0                                  0   \n",
       "SRR330926                           0                                  0   \n",
       "SRR330927                           0                                  0   \n",
       "SRR330928                           0                                  0   \n",
       "SRR330929                           0                                  0   \n",
       "\n",
       "           alpha_dup_read_covers_snps_count_exact  \\\n",
       "SRR330925                                       0   \n",
       "SRR330926                                       0   \n",
       "SRR330927                                       0   \n",
       "SRR330928                                       0   \n",
       "SRR330929                                       0   \n",
       "\n",
       "           beta_read_covers_snps_count_exact total_spots  \\\n",
       "SRR330925                                  0    11774476   \n",
       "SRR330926                                  0    12876266   \n",
       "SRR330927                                  0     8332581   \n",
       "SRR330928                                  0    10696951   \n",
       "SRR330929                                  0    10473042   \n",
       "\n",
       "          norm_alpha_read_covers_snps_count_exact  \\\n",
       "SRR330925                                     0.0   \n",
       "SRR330926                                     0.0   \n",
       "SRR330927                                     0.0   \n",
       "SRR330928                                     0.0   \n",
       "SRR330929                                     0.0   \n",
       "\n",
       "          norm_alpha_dup_read_covers_snps_count_exact  \\\n",
       "SRR330925                                         0.0   \n",
       "SRR330926                                         0.0   \n",
       "SRR330927                                         0.0   \n",
       "SRR330928                                         0.0   \n",
       "SRR330929                                         0.0   \n",
       "\n",
       "          norm_beta_read_covers_snps_count_exact  \n",
       "SRR330925                                    0.0  \n",
       "SRR330926                                    0.0  \n",
       "SRR330927                                    0.0  \n",
       "SRR330928                                    0.0  \n",
       "SRR330929                                    0.0  \n",
       "\n",
       "[5 rows x 47 columns]"
      ]
     },
     "execution_count": 110,
     "metadata": {},
     "output_type": "execute_result"
    }
   ],
   "source": [
    "df.head()"
   ]
  },
  {
   "cell_type": "code",
   "execution_count": 111,
   "metadata": {},
   "outputs": [
    {
     "name": "stderr",
     "output_type": "stream",
     "text": [
      "/panfs/pan1.be-md.ncbi.nlm.nih.gov/product_manager_research_projects/joseph/tryptase/tryptase_project/myvenv/lib/python3.6/site-packages/matplotlib/axes/_axes.py:6462: UserWarning: The 'normed' kwarg is deprecated, and has been replaced by the 'density' kwarg.\n",
      "  warnings.warn(\"The 'normed' kwarg is deprecated, and has been \"\n"
     ]
    },
    {
     "data": {
      "text/plain": [
       "<matplotlib.axes._subplots.AxesSubplot at 0x7ff6404ec3c8>"
      ]
     },
     "execution_count": 111,
     "metadata": {},
     "output_type": "execute_result"
    },
    {
     "data": {
      "image/png": "[encoded data removed]",
      "text/plain": [
       "<Figure size 432x288 with 1 Axes>"
      ]
     },
     "metadata": {},
     "output_type": "display_data"
    }
   ],
   "source": [
    "sns.distplot(df['AvgSpotLen'])"
   ]
  },
  {
   "cell_type": "code",
   "execution_count": 112,
   "metadata": {},
   "outputs": [
    {
     "name": "stderr",
     "output_type": "stream",
     "text": [
      "/panfs/pan1.be-md.ncbi.nlm.nih.gov/product_manager_research_projects/joseph/tryptase/tryptase_project/myvenv/lib/python3.6/site-packages/matplotlib/axes/_axes.py:6462: UserWarning: The 'normed' kwarg is deprecated, and has been replaced by the 'density' kwarg.\n",
      "  warnings.warn(\"The 'normed' kwarg is deprecated, and has been \"\n"
     ]
    },
    {
     "data": {
      "text/plain": [
       "<matplotlib.axes._subplots.AxesSubplot at 0x7ff6403b9ba8>"
      ]
     },
     "execution_count": 112,
     "metadata": {},
     "output_type": "execute_result"
    },
    {
     "data": {
      "image/png": "[encoded data removed]",
      "text/plain": [
       "<Figure size 432x288 with 1 Axes>"
      ]
     },
     "metadata": {},
     "output_type": "display_data"
    }
   ],
   "source": [
    "sns.distplot(df['MBases'])"
   ]
  },
  {
   "cell_type": "code",
   "execution_count": 113,
   "metadata": {},
   "outputs": [],
   "source": [
    "filtered_df = df[(df['AvgSpotLen'] > 149) &\n",
    "                (df['Assay_Type']== 'RNA-Seq') &\n",
    "                (df['Organism'] =='Homo sapiens') &\n",
    "                (df['LibrarySelection'] == 'cDNA') &\n",
    "                (df['MBases']> 1000) &\n",
    "                ((df['cell_type'] =='acute myeloid leukemia (AML) cells') | (df['cell_type'] =='acute myeloid leukemia'))\n",
    "                \n",
    "                \n",
    "                \n",
    "                ]              "
   ]
  },
  {
   "cell_type": "code",
   "execution_count": 114,
   "metadata": {},
   "outputs": [],
   "source": [
    "filtered_df.to_csv('aml.normal.meta.filtered.csv')"
   ]
  },
  {
   "cell_type": "code",
   "execution_count": 115,
   "metadata": {},
   "outputs": [],
   "source": [
    "geo_df = pd.read_csv('../data_files/geuvadis.normal.meta.csv', index_col=0)"
   ]
  },
  {
   "cell_type": "code",
   "execution_count": 116,
   "metadata": {},
   "outputs": [
    {
     "data": {
      "text/html": [
       "<div>\n",
       "<style scoped>\n",
       "    .dataframe tbody tr th:only-of-type {\n",
       "        vertical-align: middle;\n",
       "    }\n",
       "\n",
       "    .dataframe tbody tr th {\n",
       "        vertical-align: top;\n",
       "    }\n",
       "\n",
       "    .dataframe thead th {\n",
       "        text-align: right;\n",
       "    }\n",
       "</style>\n",
       "<table border=\"1\" class=\"dataframe\">\n",
       "  <thead>\n",
       "    <tr style=\"text-align: right;\">\n",
       "      <th></th>\n",
       "      <th>Assay_Type</th>\n",
       "      <th>AvgSpotLen</th>\n",
       "      <th>BioProject</th>\n",
       "      <th>BioSample</th>\n",
       "      <th>Center_Name</th>\n",
       "      <th>DATASTORE_filetype</th>\n",
       "      <th>DATASTORE_provider</th>\n",
       "      <th>ENA_FIRST_PUBLIC</th>\n",
       "      <th>ENA_LAST_UPDATE</th>\n",
       "      <th>Experiment</th>\n",
       "      <th>...</th>\n",
       "      <th>alpha_read_covers_snps_count</th>\n",
       "      <th>alpha_dup_read_covers_snps_count</th>\n",
       "      <th>beta_read_covers_snps_count</th>\n",
       "      <th>alpha_read_covers_snps_count_exact</th>\n",
       "      <th>alpha_dup_read_covers_snps_count_exact</th>\n",
       "      <th>beta_read_covers_snps_count_exact</th>\n",
       "      <th>total_spots</th>\n",
       "      <th>norm_alpha_read_covers_snps_count_exact</th>\n",
       "      <th>norm_alpha_dup_read_covers_snps_count_exact</th>\n",
       "      <th>norm_beta_read_covers_snps_count_exact</th>\n",
       "    </tr>\n",
       "  </thead>\n",
       "  <tbody>\n",
       "    <tr>\n",
       "      <th>ERR011377</th>\n",
       "      <td>OTHER</td>\n",
       "      <td>108</td>\n",
       "      <td>PRJEB2123</td>\n",
       "      <td>SAMEA1013419</td>\n",
       "      <td>University of Geneva</td>\n",
       "      <td>sra</td>\n",
       "      <td>ncbi</td>\n",
       "      <td>2010-04-14</td>\n",
       "      <td>2018-03-08</td>\n",
       "      <td>ERX004334</td>\n",
       "      <td>...</td>\n",
       "      <td>0</td>\n",
       "      <td>0</td>\n",
       "      <td>0</td>\n",
       "      <td>0</td>\n",
       "      <td>0</td>\n",
       "      <td>0</td>\n",
       "      <td>18422862</td>\n",
       "      <td>0.0</td>\n",
       "      <td>0.0</td>\n",
       "      <td>0.0</td>\n",
       "    </tr>\n",
       "    <tr>\n",
       "      <th>ERR011378</th>\n",
       "      <td>OTHER</td>\n",
       "      <td>108</td>\n",
       "      <td>PRJEB2123</td>\n",
       "      <td>SAMEA1013419</td>\n",
       "      <td>University of Geneva</td>\n",
       "      <td>sra</td>\n",
       "      <td>ncbi</td>\n",
       "      <td>2010-04-14</td>\n",
       "      <td>2018-03-08</td>\n",
       "      <td>ERX004334</td>\n",
       "      <td>...</td>\n",
       "      <td>0</td>\n",
       "      <td>0</td>\n",
       "      <td>0</td>\n",
       "      <td>0</td>\n",
       "      <td>0</td>\n",
       "      <td>0</td>\n",
       "      <td>19757494</td>\n",
       "      <td>0.0</td>\n",
       "      <td>0.0</td>\n",
       "      <td>0.0</td>\n",
       "    </tr>\n",
       "    <tr>\n",
       "      <th>ERR011379</th>\n",
       "      <td>OTHER</td>\n",
       "      <td>108</td>\n",
       "      <td>PRJEB2123</td>\n",
       "      <td>SAMEA1013421</td>\n",
       "      <td>University of Geneva</td>\n",
       "      <td>sra</td>\n",
       "      <td>ncbi</td>\n",
       "      <td>2010-04-14</td>\n",
       "      <td>2018-03-08</td>\n",
       "      <td>ERX004335</td>\n",
       "      <td>...</td>\n",
       "      <td>0</td>\n",
       "      <td>0</td>\n",
       "      <td>0</td>\n",
       "      <td>0</td>\n",
       "      <td>0</td>\n",
       "      <td>0</td>\n",
       "      <td>18940383</td>\n",
       "      <td>0.0</td>\n",
       "      <td>0.0</td>\n",
       "      <td>0.0</td>\n",
       "    </tr>\n",
       "    <tr>\n",
       "      <th>ERR011380</th>\n",
       "      <td>OTHER</td>\n",
       "      <td>108</td>\n",
       "      <td>PRJEB2123</td>\n",
       "      <td>SAMEA1013421</td>\n",
       "      <td>University of Geneva</td>\n",
       "      <td>sra</td>\n",
       "      <td>ncbi</td>\n",
       "      <td>2010-04-14</td>\n",
       "      <td>2018-03-08</td>\n",
       "      <td>ERX004335</td>\n",
       "      <td>...</td>\n",
       "      <td>0</td>\n",
       "      <td>0</td>\n",
       "      <td>0</td>\n",
       "      <td>0</td>\n",
       "      <td>0</td>\n",
       "      <td>0</td>\n",
       "      <td>19265234</td>\n",
       "      <td>0.0</td>\n",
       "      <td>0.0</td>\n",
       "      <td>0.0</td>\n",
       "    </tr>\n",
       "    <tr>\n",
       "      <th>ERR011381</th>\n",
       "      <td>WGS</td>\n",
       "      <td>108</td>\n",
       "      <td>PRJEB2123</td>\n",
       "      <td>SAMEA1013420</td>\n",
       "      <td>University of Geneva</td>\n",
       "      <td>sra</td>\n",
       "      <td>ncbi</td>\n",
       "      <td>2010-04-14</td>\n",
       "      <td>2013-11-04</td>\n",
       "      <td>ERX004339</td>\n",
       "      <td>...</td>\n",
       "      <td>0</td>\n",
       "      <td>0</td>\n",
       "      <td>0</td>\n",
       "      <td>0</td>\n",
       "      <td>0</td>\n",
       "      <td>0</td>\n",
       "      <td>16991870</td>\n",
       "      <td>0.0</td>\n",
       "      <td>0.0</td>\n",
       "      <td>0.0</td>\n",
       "    </tr>\n",
       "  </tbody>\n",
       "</table>\n",
       "<p>5 rows × 47 columns</p>\n",
       "</div>"
      ],
      "text/plain": [
       "          Assay_Type  AvgSpotLen BioProject     BioSample  \\\n",
       "ERR011377      OTHER         108  PRJEB2123  SAMEA1013419   \n",
       "ERR011378      OTHER         108  PRJEB2123  SAMEA1013419   \n",
       "ERR011379      OTHER         108  PRJEB2123  SAMEA1013421   \n",
       "ERR011380      OTHER         108  PRJEB2123  SAMEA1013421   \n",
       "ERR011381        WGS         108  PRJEB2123  SAMEA1013420   \n",
       "\n",
       "                    Center_Name DATASTORE_filetype DATASTORE_provider  \\\n",
       "ERR011377  University of Geneva                sra               ncbi   \n",
       "ERR011378  University of Geneva                sra               ncbi   \n",
       "ERR011379  University of Geneva                sra               ncbi   \n",
       "ERR011380  University of Geneva                sra               ncbi   \n",
       "ERR011381  University of Geneva                sra               ncbi   \n",
       "\n",
       "          ENA_FIRST_PUBLIC ENA_LAST_UPDATE Experiment  \\\n",
       "ERR011377       2010-04-14      2018-03-08  ERX004334   \n",
       "ERR011378       2010-04-14      2018-03-08  ERX004334   \n",
       "ERR011379       2010-04-14      2018-03-08  ERX004335   \n",
       "ERR011380       2010-04-14      2018-03-08  ERX004335   \n",
       "ERR011381       2010-04-14      2013-11-04  ERX004339   \n",
       "\n",
       "                           ...                    \\\n",
       "ERR011377                  ...                     \n",
       "ERR011378                  ...                     \n",
       "ERR011379                  ...                     \n",
       "ERR011380                  ...                     \n",
       "ERR011381                  ...                     \n",
       "\n",
       "           alpha_read_covers_snps_count alpha_dup_read_covers_snps_count  \\\n",
       "ERR011377                             0                                0   \n",
       "ERR011378                             0                                0   \n",
       "ERR011379                             0                                0   \n",
       "ERR011380                             0                                0   \n",
       "ERR011381                             0                                0   \n",
       "\n",
       "          beta_read_covers_snps_count alpha_read_covers_snps_count_exact  \\\n",
       "ERR011377                           0                                  0   \n",
       "ERR011378                           0                                  0   \n",
       "ERR011379                           0                                  0   \n",
       "ERR011380                           0                                  0   \n",
       "ERR011381                           0                                  0   \n",
       "\n",
       "          alpha_dup_read_covers_snps_count_exact  \\\n",
       "ERR011377                                      0   \n",
       "ERR011378                                      0   \n",
       "ERR011379                                      0   \n",
       "ERR011380                                      0   \n",
       "ERR011381                                      0   \n",
       "\n",
       "          beta_read_covers_snps_count_exact total_spots  \\\n",
       "ERR011377                                 0    18422862   \n",
       "ERR011378                                 0    19757494   \n",
       "ERR011379                                 0    18940383   \n",
       "ERR011380                                 0    19265234   \n",
       "ERR011381                                 0    16991870   \n",
       "\n",
       "           norm_alpha_read_covers_snps_count_exact  \\\n",
       "ERR011377                                      0.0   \n",
       "ERR011378                                      0.0   \n",
       "ERR011379                                      0.0   \n",
       "ERR011380                                      0.0   \n",
       "ERR011381                                      0.0   \n",
       "\n",
       "           norm_alpha_dup_read_covers_snps_count_exact  \\\n",
       "ERR011377                                          0.0   \n",
       "ERR011378                                          0.0   \n",
       "ERR011379                                          0.0   \n",
       "ERR011380                                          0.0   \n",
       "ERR011381                                          0.0   \n",
       "\n",
       "          norm_beta_read_covers_snps_count_exact  \n",
       "ERR011377                                    0.0  \n",
       "ERR011378                                    0.0  \n",
       "ERR011379                                    0.0  \n",
       "ERR011380                                    0.0  \n",
       "ERR011381                                    0.0  \n",
       "\n",
       "[5 rows x 47 columns]"
      ]
     },
     "execution_count": 116,
     "metadata": {},
     "output_type": "execute_result"
    }
   ],
   "source": [
    "geo_df.head()"
   ]
  },
  {
   "cell_type": "code",
   "execution_count": 117,
   "metadata": {},
   "outputs": [
    {
     "name": "stderr",
     "output_type": "stream",
     "text": [
      "/panfs/pan1.be-md.ncbi.nlm.nih.gov/product_manager_research_projects/joseph/tryptase/tryptase_project/myvenv/lib/python3.6/site-packages/matplotlib/axes/_axes.py:6462: UserWarning: The 'normed' kwarg is deprecated, and has been replaced by the 'density' kwarg.\n",
      "  warnings.warn(\"The 'normed' kwarg is deprecated, and has been \"\n"
     ]
    },
    {
     "data": {
      "text/plain": [
       "<matplotlib.axes._subplots.AxesSubplot at 0x7ff644e45198>"
      ]
     },
     "execution_count": 117,
     "metadata": {},
     "output_type": "execute_result"
    },
    {
     "data": {
      "image/png": "[encoded data removed]",
      "text/plain": [
       "<Figure size 432x288 with 1 Axes>"
      ]
     },
     "metadata": {},
     "output_type": "display_data"
    }
   ],
   "source": [
    "sns.distplot(geo_df['AvgSpotLen'])"
   ]
  },
  {
   "cell_type": "code",
   "execution_count": 118,
   "metadata": {},
   "outputs": [
    {
     "data": {
      "text/plain": [
       "Index(['Assay_Type', 'AvgSpotLen', 'BioProject', 'BioSample', 'Center_Name',\n",
       "       'DATASTORE_filetype', 'DATASTORE_provider', 'ENA_FIRST_PUBLIC',\n",
       "       'ENA_LAST_UPDATE', 'Experiment', 'InsertSize', 'Instrument',\n",
       "       'LibraryLayout', 'LibrarySelection', 'LibrarySource', 'Library_Name',\n",
       "       'LoadDate', 'MBases', 'MBytes', 'Organism', 'Platform', 'ReleaseDate',\n",
       "       'SRA_Sample', 'SRA_Study', 'Sample_Name', 'population', 'Consent',\n",
       "       'Strain', 'file_location', 'source', 'alignment_count',\n",
       "       'alpha_wt_count', 'alpha_dup_count', 'beta_count',\n",
       "       'alpha_wt_zero_edit_count', 'alpha_dup_zero_edit_count',\n",
       "       'beta_zero_edit_count', 'alpha_read_covers_snps_count',\n",
       "       'alpha_dup_read_covers_snps_count', 'beta_read_covers_snps_count',\n",
       "       'alpha_read_covers_snps_count_exact',\n",
       "       'alpha_dup_read_covers_snps_count_exact',\n",
       "       'beta_read_covers_snps_count_exact', 'total_spots',\n",
       "       'norm_alpha_read_covers_snps_count_exact',\n",
       "       'norm_alpha_dup_read_covers_snps_count_exact',\n",
       "       'norm_beta_read_covers_snps_count_exact'],\n",
       "      dtype='object')"
      ]
     },
     "execution_count": 118,
     "metadata": {},
     "output_type": "execute_result"
    }
   ],
   "source": [
    "geo_df.columns"
   ]
  },
  {
   "cell_type": "code",
   "execution_count": 119,
   "metadata": {},
   "outputs": [
    {
     "data": {
      "text/plain": [
       "RNA-Seq    667\n",
       "OTHER      500\n",
       "WGS          3\n",
       "Name: Assay_Type, dtype: int64"
      ]
     },
     "execution_count": 119,
     "metadata": {},
     "output_type": "execute_result"
    }
   ],
   "source": [
    "geo_df['Assay_Type'].value_counts()"
   ]
  },
  {
   "cell_type": "code",
   "execution_count": 120,
   "metadata": {},
   "outputs": [],
   "source": [
    "filtered_geo_df = geo_df[(geo_df['AvgSpotLen'] > 149) &\n",
    "                (geo_df['Assay_Type']== 'RNA-Seq') &\n",
    "                (geo_df['Organism'] =='Homo sapiens') &\n",
    "                (geo_df['LibrarySelection'] == 'cDNA') &\n",
    "                (geo_df['MBases']> 1000)    \n",
    "                         \n",
    "                ]         "
   ]
  },
  {
   "cell_type": "code",
   "execution_count": 123,
   "metadata": {},
   "outputs": [
    {
     "name": "stderr",
     "output_type": "stream",
     "text": [
      "/panfs/pan1.be-md.ncbi.nlm.nih.gov/product_manager_research_projects/joseph/tryptase/tryptase_project/myvenv/lib/python3.6/site-packages/matplotlib/axes/_axes.py:6462: UserWarning: The 'normed' kwarg is deprecated, and has been replaced by the 'density' kwarg.\n",
      "  warnings.warn(\"The 'normed' kwarg is deprecated, and has been \"\n"
     ]
    },
    {
     "data": {
      "text/plain": [
       "<matplotlib.axes._subplots.AxesSubplot at 0x7ff6401d3358>"
      ]
     },
     "execution_count": 123,
     "metadata": {},
     "output_type": "execute_result"
    },
    {
     "data": {
      "image/png": "[encoded data removed]",
      "text/plain": [
       "<Figure size 432x288 with 1 Axes>"
      ]
     },
     "metadata": {},
     "output_type": "display_data"
    }
   ],
   "source": [
    "sns.distplot(filtered_geo_df['alignment_count'])"
   ]
  },
  {
   "cell_type": "code",
   "execution_count": 125,
   "metadata": {},
   "outputs": [],
   "source": [
    "filtered_geo_df.to_csv('geuvadis.normal.meta.filtered.csv')"
   ]
  },
  {
   "cell_type": "code",
   "execution_count": 124,
   "metadata": {},
   "outputs": [
    {
     "data": {
      "text/plain": [
       "Assay_Type                                     RNA-SeqRNA-SeqRNA-SeqRNA-SeqRNA-SeqRNA-SeqRNA-...\n",
       "AvgSpotLen                                                                                 99942\n",
       "BioProject                                     PRJEB3366PRJEB3366PRJEB3366PRJEB3366PRJEB3366P...\n",
       "BioSample                                      SAMEA1573249SAMEA1573483SAMEA1573331SAMEA15733...\n",
       "Center_Name                                    Leiden University Medical CenterCentre for Gen...\n",
       "DATASTORE_filetype                             srasrasrasrasrasrasrasrasrasrasrasrasrasrasras...\n",
       "DATASTORE_provider                             ncbincbincbincbincbincbincbincbincbincbincbinc...\n",
       "ENA_FIRST_PUBLIC                               2012-11-062012-11-062012-11-062012-11-062012-1...\n",
       "ENA_LAST_UPDATE                                2018-03-082018-03-082018-03-082018-03-082018-0...\n",
       "Experiment                                     ERX162725ERX162729ERX162730ERX162737ERX162739E...\n",
       "InsertSize                                                                                186200\n",
       "Instrument                                     Illumina HiSeq 2000Illumina HiSeq 2000Illumina...\n",
       "LibraryLayout                                  PAIREDPAIREDPAIREDPAIREDPAIREDPAIREDPAIREDPAIR...\n",
       "LibrarySelection                               cDNAcDNAcDNAcDNAcDNAcDNAcDNAcDNAcDNAcDNAcDNAcD...\n",
       "LibrarySource                                  TRANSCRIPTOMICTRANSCRIPTOMICTRANSCRIPTOMICTRAN...\n",
       "Library_Name                                   NA11893.7.M_120219_3 extractNA20797.2.M_111215...\n",
       "LoadDate                                       2012-11-062012-11-072012-11-062012-11-072012-1...\n",
       "MBases                                                                                   2528603\n",
       "MBytes                                                                                   1760764\n",
       "Organism                                       Homo sapiensHomo sapiensHomo sapiensHomo sapie...\n",
       "Platform                                       ILLUMINAILLUMINAILLUMINAILLUMINAILLUMINAILLUMI...\n",
       "ReleaseDate                                    2012-11-062012-11-072012-11-062012-11-072012-1...\n",
       "SRA_Sample                                     ERS185138ERS185263ERS185288ERS185454ERS185337E...\n",
       "SRA_Study                                      ERP001942ERP001942ERP001942ERP001942ERP001942E...\n",
       "Sample_Name                                    GEUV:NA11893GEUV:NA20797GEUV:NA12762GEUV:NA118...\n",
       "population                                     CEUTSICEUCEUGBRGBRFINGBRTSITSICEUCEUGBRTSIGBRT...\n",
       "Consent                                        publicpublicpublicpublicpublicpublicpublicpubl...\n",
       "Strain                                         lymphoblastoid cell linelymphoblastoid cell li...\n",
       "file_location                                  ../geuvadis_results/geuvadis.ERR188077.sam.sor...\n",
       "source                                         geuvadisgeuvadisgeuvadisgeuvadisgeuvadisgeuvad...\n",
       "alignment_count                                                                             3914\n",
       "alpha_wt_count                                                                              1281\n",
       "alpha_dup_count                                                                             1267\n",
       "beta_count                                                                                  1366\n",
       "alpha_wt_zero_edit_count                                                                    1166\n",
       "alpha_dup_zero_edit_count                                                                   1152\n",
       "beta_zero_edit_count                                                                        1154\n",
       "alpha_read_covers_snps_count                                                                   3\n",
       "alpha_dup_read_covers_snps_count                                                               0\n",
       "beta_read_covers_snps_count                                                                    2\n",
       "alpha_read_covers_snps_count_exact                                                             3\n",
       "alpha_dup_read_covers_snps_count_exact                                                         0\n",
       "beta_read_covers_snps_count_exact                                                              2\n",
       "total_spots                                                                          17635723030\n",
       "norm_alpha_read_covers_snps_count_exact                                                0.0645126\n",
       "norm_alpha_dup_read_covers_snps_count_exact                                                    0\n",
       "norm_beta_read_covers_snps_count_exact                                                 0.0894344\n",
       "dtype: object"
      ]
     },
     "execution_count": 124,
     "metadata": {},
     "output_type": "execute_result"
    }
   ],
   "source": [
    "filtered_geo_df.sum()"
   ]
  },
  {
   "cell_type": "code",
   "execution_count": null,
   "metadata": {},
   "outputs": [],
   "source": []
  },
  {
   "cell_type": "code",
   "execution_count": null,
   "metadata": {},
   "outputs": [],
   "source": []
  }
 ],
 "metadata": {
  "kernelspec": {
   "display_name": "Python 3",
   "language": "python",
   "name": "python3"
  },
  "language_info": {
   "codemirror_mode": {
    "name": "ipython",
    "version": 3
   },
   "file_extension": ".py",
   "mimetype": "text/x-python",
   "name": "python",
   "nbconvert_exporter": "python",
   "pygments_lexer": "ipython3",
   "version": "3.6.2"
  }
 },
 "nbformat": 4,
 "nbformat_minor": 2
}
