{
 "cells": [
  {
   "cell_type": "code",
   "execution_count": 1,
   "metadata": {},
   "outputs": [],
   "source": [
    "import pysam\n",
    "import glob\n",
    "import pandas as pd"
   ]
  },
  {
   "cell_type": "code",
   "execution_count": 2,
   "metadata": {},
   "outputs": [],
   "source": [
    "def get_files(folder):\n",
    "    \n",
    "    return glob.glob('{folder}/*.bam'.format(folder=folder))"
   ]
  },
  {
   "cell_type": "code",
   "execution_count": 4,
   "metadata": {},
   "outputs": [],
   "source": [
    "list_of_aml_results = get_files('../aml_results/')\n",
    "aml_file_names = [x.split('/')[len(x.split('/'))-1] for x in list_of_aml_results]\n"
   ]
  },
  {
   "cell_type": "code",
   "execution_count": 5,
   "metadata": {},
   "outputs": [],
   "source": [
    "df_aml = pd.DataFrame(index=aml_file_names)\n",
    "df_aml['file_location'] = list_of_aml_results"
   ]
  },
  {
   "cell_type": "code",
   "execution_count": 6,
   "metadata": {},
   "outputs": [],
   "source": [
    "df_aml['source'] = 'AML'"
   ]
  },
  {
   "cell_type": "code",
   "execution_count": 7,
   "metadata": {},
   "outputs": [
    {
     "data": {
      "text/html": [
       "<div>\n",
       "<style scoped>\n",
       "    .dataframe tbody tr th:only-of-type {\n",
       "        vertical-align: middle;\n",
       "    }\n",
       "\n",
       "    .dataframe tbody tr th {\n",
       "        vertical-align: top;\n",
       "    }\n",
       "\n",
       "    .dataframe thead th {\n",
       "        text-align: right;\n",
       "    }\n",
       "</style>\n",
       "<table border=\"1\" class=\"dataframe\">\n",
       "  <thead>\n",
       "    <tr style=\"text-align: right;\">\n",
       "      <th></th>\n",
       "      <th>file_location</th>\n",
       "      <th>source</th>\n",
       "    </tr>\n",
       "  </thead>\n",
       "  <tbody>\n",
       "    <tr>\n",
       "      <th>aml_aabspliced_SRR948685.sam.sorted.bam</th>\n",
       "      <td>../aml_results/aml_aabspliced_SRR948685.sam.so...</td>\n",
       "      <td>AML</td>\n",
       "    </tr>\n",
       "    <tr>\n",
       "      <th>aml_aabspliced_SRR948686.sam.sorted.bam</th>\n",
       "      <td>../aml_results/aml_aabspliced_SRR948686.sam.so...</td>\n",
       "      <td>AML</td>\n",
       "    </tr>\n",
       "    <tr>\n",
       "      <th>aml_aabspliced_SRR1918637.sam.sorted.bam</th>\n",
       "      <td>../aml_results/aml_aabspliced_SRR1918637.sam.s...</td>\n",
       "      <td>AML</td>\n",
       "    </tr>\n",
       "    <tr>\n",
       "      <th>aml_aabspliced_SRR1918638.sam.sorted.bam</th>\n",
       "      <td>../aml_results/aml_aabspliced_SRR1918638.sam.s...</td>\n",
       "      <td>AML</td>\n",
       "    </tr>\n",
       "    <tr>\n",
       "      <th>aml_aabspliced_SRR1918639.sam.sorted.bam</th>\n",
       "      <td>../aml_results/aml_aabspliced_SRR1918639.sam.s...</td>\n",
       "      <td>AML</td>\n",
       "    </tr>\n",
       "  </tbody>\n",
       "</table>\n",
       "</div>"
      ],
      "text/plain": [
       "                                                                              file_location  \\\n",
       "aml_aabspliced_SRR948685.sam.sorted.bam   ../aml_results/aml_aabspliced_SRR948685.sam.so...   \n",
       "aml_aabspliced_SRR948686.sam.sorted.bam   ../aml_results/aml_aabspliced_SRR948686.sam.so...   \n",
       "aml_aabspliced_SRR1918637.sam.sorted.bam  ../aml_results/aml_aabspliced_SRR1918637.sam.s...   \n",
       "aml_aabspliced_SRR1918638.sam.sorted.bam  ../aml_results/aml_aabspliced_SRR1918638.sam.s...   \n",
       "aml_aabspliced_SRR1918639.sam.sorted.bam  ../aml_results/aml_aabspliced_SRR1918639.sam.s...   \n",
       "\n",
       "                                         source  \n",
       "aml_aabspliced_SRR948685.sam.sorted.bam     AML  \n",
       "aml_aabspliced_SRR948686.sam.sorted.bam     AML  \n",
       "aml_aabspliced_SRR1918637.sam.sorted.bam    AML  \n",
       "aml_aabspliced_SRR1918638.sam.sorted.bam    AML  \n",
       "aml_aabspliced_SRR1918639.sam.sorted.bam    AML  "
      ]
     },
     "execution_count": 7,
     "metadata": {},
     "output_type": "execute_result"
    }
   ],
   "source": [
    "df_aml.head()"
   ]
  },
  {
   "cell_type": "code",
   "execution_count": 8,
   "metadata": {},
   "outputs": [],
   "source": [
    "def get_read_count(df):\n",
    "\n",
    "    return int(pysam.view(\"-c\", df['file_location']))"
   ]
  },
  {
   "cell_type": "code",
   "execution_count": 11,
   "metadata": {},
   "outputs": [],
   "source": [
    "df_aml['alignment_count'] = df_aml.apply(get_read_count, axis=1)"
   ]
  },
  {
   "cell_type": "code",
   "execution_count": 12,
   "metadata": {
    "scrolled": true
   },
   "outputs": [
    {
     "data": {
      "text/html": [
       "<div>\n",
       "<style scoped>\n",
       "    .dataframe tbody tr th:only-of-type {\n",
       "        vertical-align: middle;\n",
       "    }\n",
       "\n",
       "    .dataframe tbody tr th {\n",
       "        vertical-align: top;\n",
       "    }\n",
       "\n",
       "    .dataframe thead th {\n",
       "        text-align: right;\n",
       "    }\n",
       "</style>\n",
       "<table border=\"1\" class=\"dataframe\">\n",
       "  <thead>\n",
       "    <tr style=\"text-align: right;\">\n",
       "      <th></th>\n",
       "      <th>file_location</th>\n",
       "      <th>source</th>\n",
       "      <th>alignment_count</th>\n",
       "    </tr>\n",
       "  </thead>\n",
       "  <tbody>\n",
       "    <tr>\n",
       "      <th>aml_aabspliced_SRR948685.sam.sorted.bam</th>\n",
       "      <td>../aml_results/aml_aabspliced_SRR948685.sam.so...</td>\n",
       "      <td>AML</td>\n",
       "      <td>197</td>\n",
       "    </tr>\n",
       "    <tr>\n",
       "      <th>aml_aabspliced_SRR948686.sam.sorted.bam</th>\n",
       "      <td>../aml_results/aml_aabspliced_SRR948686.sam.so...</td>\n",
       "      <td>AML</td>\n",
       "      <td>161</td>\n",
       "    </tr>\n",
       "    <tr>\n",
       "      <th>aml_aabspliced_SRR1918637.sam.sorted.bam</th>\n",
       "      <td>../aml_results/aml_aabspliced_SRR1918637.sam.s...</td>\n",
       "      <td>AML</td>\n",
       "      <td>3736</td>\n",
       "    </tr>\n",
       "    <tr>\n",
       "      <th>aml_aabspliced_SRR1918638.sam.sorted.bam</th>\n",
       "      <td>../aml_results/aml_aabspliced_SRR1918638.sam.s...</td>\n",
       "      <td>AML</td>\n",
       "      <td>3550</td>\n",
       "    </tr>\n",
       "    <tr>\n",
       "      <th>aml_aabspliced_SRR1918639.sam.sorted.bam</th>\n",
       "      <td>../aml_results/aml_aabspliced_SRR1918639.sam.s...</td>\n",
       "      <td>AML</td>\n",
       "      <td>182</td>\n",
       "    </tr>\n",
       "  </tbody>\n",
       "</table>\n",
       "</div>"
      ],
      "text/plain": [
       "                                                                              file_location  \\\n",
       "aml_aabspliced_SRR948685.sam.sorted.bam   ../aml_results/aml_aabspliced_SRR948685.sam.so...   \n",
       "aml_aabspliced_SRR948686.sam.sorted.bam   ../aml_results/aml_aabspliced_SRR948686.sam.so...   \n",
       "aml_aabspliced_SRR1918637.sam.sorted.bam  ../aml_results/aml_aabspliced_SRR1918637.sam.s...   \n",
       "aml_aabspliced_SRR1918638.sam.sorted.bam  ../aml_results/aml_aabspliced_SRR1918638.sam.s...   \n",
       "aml_aabspliced_SRR1918639.sam.sorted.bam  ../aml_results/aml_aabspliced_SRR1918639.sam.s...   \n",
       "\n",
       "                                         source  alignment_count  \n",
       "aml_aabspliced_SRR948685.sam.sorted.bam     AML              197  \n",
       "aml_aabspliced_SRR948686.sam.sorted.bam     AML              161  \n",
       "aml_aabspliced_SRR1918637.sam.sorted.bam    AML             3736  \n",
       "aml_aabspliced_SRR1918638.sam.sorted.bam    AML             3550  \n",
       "aml_aabspliced_SRR1918639.sam.sorted.bam    AML              182  "
      ]
     },
     "execution_count": 12,
     "metadata": {},
     "output_type": "execute_result"
    }
   ],
   "source": [
    "df_aml.head()"
   ]
  },
  {
   "cell_type": "code",
   "execution_count": 125,
   "metadata": {},
   "outputs": [],
   "source": [
    "def get_bases_at_pos(sam_file, transcript, pos):\n",
    "    \"\"\"\n",
    "    For a given position in the reference what are the bases in the reads which align at \\\n",
    "    that position.\n",
    "    \n",
    "    \n",
    "    \n",
    "    \n",
    "    \"\"\"\n",
    "    \n",
    "    samfile = pysam.AlignmentFile(sam_file, \"rb\")\n",
    "    \n",
    "    iter = samfile.pileup(contig=transcript)\n",
    "    \n",
    "    for column in iter:\n",
    "        \n",
    "        #print (column.reference_name, column.reference_pos)\n",
    "        \n",
    "        if column.reference_pos == pos:\n",
    "            \n",
    "            base_list = []\n",
    "              \n",
    "            for read in column.pileups:\n",
    "\n",
    "                if read.is_del == 0:\n",
    "\n",
    "                    base_list.append(read.alignment.query_sequence[read.query_position])\n",
    "\n",
    "                    #print(read)\n",
    "\n",
    "                    #print (read.query_position)\n",
    "\n",
    "                    #print (read.alignment.query_sequence[read.query_position])\n",
    "\n",
    "                else:\n",
    "\n",
    "                    base_list.append('_')\n",
    "                    \n",
    "            return base_list\n",
    "        "
   ]
  },
  {
   "cell_type": "code",
   "execution_count": 126,
   "metadata": {
    "scrolled": false
   },
   "outputs": [
    {
     "data": {
      "text/plain": [
       "['A', 'A', 'A', 'A', 'A', 'A', 'A', 'A']"
      ]
     },
     "execution_count": 126,
     "metadata": {},
     "output_type": "execute_result"
    }
   ],
   "source": [
    "get_bases_at_pos('../aml_results/aml_aabspliced_SRR948686.sam.sorted.bam', 'BETA_new_GEX_FAM', 33)"
   ]
  },
  {
   "cell_type": "code",
   "execution_count": null,
   "metadata": {},
   "outputs": [],
   "source": []
  },
  {
   "cell_type": "code",
   "execution_count": null,
   "metadata": {},
   "outputs": [],
   "source": []
  }
 ],
 "metadata": {
  "kernelspec": {
   "display_name": "Python 3",
   "language": "python",
   "name": "python3"
  },
  "language_info": {
   "codemirror_mode": {
    "name": "ipython",
    "version": 3
   },
   "file_extension": ".py",
   "mimetype": "text/x-python",
   "name": "python",
   "nbconvert_exporter": "python",
   "pygments_lexer": "ipython3",
   "version": "3.6.2"
  }
 },
 "nbformat": 4,
 "nbformat_minor": 2
}
