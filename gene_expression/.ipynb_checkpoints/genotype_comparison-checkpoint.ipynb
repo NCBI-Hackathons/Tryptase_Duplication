{
 "cells": [
  {
   "cell_type": "code",
   "execution_count": 67,
   "metadata": {},
   "outputs": [],
   "source": [
    "import pandas as pd\n",
    "import matplotlib.pyplot as plt\n",
    "import seaborn as sns"
   ]
  },
  {
   "cell_type": "code",
   "execution_count": 68,
   "metadata": {},
   "outputs": [],
   "source": [
    "df = pd.read_csv('data/aml.meta.mbase_norm.csv', index_col=0)"
   ]
  },
  {
   "cell_type": "code",
   "execution_count": 69,
   "metadata": {
    "scrolled": true
   },
   "outputs": [],
   "source": [
    "df = df[(df['LibraryLayout']=='PAIRED') & (df['BioProject'] =='PRJNA278767') ]"
   ]
  },
  {
   "cell_type": "code",
   "execution_count": 70,
   "metadata": {},
   "outputs": [],
   "source": [
    "df_grouped = df.groupby('Sample_Name')"
   ]
  },
  {
   "cell_type": "code",
   "execution_count": 71,
   "metadata": {},
   "outputs": [],
   "source": [
    "df = df_grouped.mean()"
   ]
  },
  {
   "cell_type": "code",
   "execution_count": null,
   "metadata": {},
   "outputs": [],
   "source": []
  },
  {
   "cell_type": "code",
   "execution_count": 72,
   "metadata": {},
   "outputs": [],
   "source": [
    "\"\"\"\n",
    "1. Tryptase positive (any sample expressing any of the 3 tryptase isoforms)\n",
    "2. Tryptase negative (samples that do not express ANY of the tryptase isoforms)\n",
    "3. Alpha expressing (any sample that expresses alpha and/or alphaDUP, regardless of beta expression)\n",
    "4. Alpha DUP expressing (any sample expressing alpha DUP - most should also express alpha and beta)\n",
    "5. Beta-only expressing (no alpha or alphaDUP, but beta tryptase positive)\n",
    "\"\"\"\n",
    "\n",
    "\n",
    "def tryptase_any_positive(df):\n",
    "    \n",
    "    if df['norm_alpha_read_covers_snps_count_exact'] > 0:\n",
    "        return True\n",
    "    elif df['norm_alpha_dup_read_covers_snps_count_exact'] > 0:\n",
    "        return True\n",
    "    elif df['norm_beta_read_covers_snps_count_exact'] >0:\n",
    "        return True\n",
    "    else:\n",
    "        return False"
   ]
  },
  {
   "cell_type": "code",
   "execution_count": 73,
   "metadata": {},
   "outputs": [],
   "source": [
    "df['tryptase_any_positive'] = df.apply(tryptase_any_positive, axis=1)"
   ]
  },
  {
   "cell_type": "code",
   "execution_count": 74,
   "metadata": {},
   "outputs": [],
   "source": [
    "def alpha_wt_or_alpha_dup(df):\n",
    "    \n",
    "    if df['norm_alpha_read_covers_snps_count_exact'] > 0 or df['norm_alpha_dup_read_covers_snps_count_exact'] > 0:\n",
    "        return True\n",
    "    else:\n",
    "        return False"
   ]
  },
  {
   "cell_type": "code",
   "execution_count": 75,
   "metadata": {},
   "outputs": [],
   "source": [
    "df['alpha_wt_or_alpha_dup'] = df.apply(alpha_wt_or_alpha_dup, axis=1)"
   ]
  },
  {
   "cell_type": "code",
   "execution_count": 76,
   "metadata": {},
   "outputs": [],
   "source": [
    "def beta_positive_only(df):\n",
    "    if (df['norm_beta_read_covers_snps_count_exact'] >0 and \n",
    "        df['norm_alpha_read_covers_snps_count_exact'] == 0 and\n",
    "        df['norm_alpha_dup_read_covers_snps_count_exact'] ==0):\n",
    "        return True\n",
    "    else:\n",
    "        return False"
   ]
  },
  {
   "cell_type": "code",
   "execution_count": 77,
   "metadata": {},
   "outputs": [],
   "source": [
    "df['beta_positive_only'] = df.apply(beta_positive_only, axis=1)"
   ]
  },
  {
   "cell_type": "code",
   "execution_count": 78,
   "metadata": {},
   "outputs": [],
   "source": [
    "def alpha_dup_positive(df):\n",
    "    if df['norm_alpha_dup_read_covers_snps_count_exact'] >0:\n",
    "        return True\n",
    "    else:\n",
    "        return False"
   ]
  },
  {
   "cell_type": "code",
   "execution_count": 79,
   "metadata": {},
   "outputs": [],
   "source": [
    "df['alpha_dup_positive'] = df.apply(alpha_dup_positive, axis=1)"
   ]
  },
  {
   "cell_type": "code",
   "execution_count": 80,
   "metadata": {},
   "outputs": [],
   "source": [
    "def tryptase_all_negative(df):\n",
    "    \n",
    "    if (df['norm_alpha_read_covers_snps_count_exact'] == 0\n",
    "    and df['norm_alpha_dup_read_covers_snps_count_exact'] == 0\n",
    "    and df['norm_beta_read_covers_snps_count_exact'] == 0):\n",
    "        return True\n",
    "    else:\n",
    "        return False\n"
   ]
  },
  {
   "cell_type": "code",
   "execution_count": 81,
   "metadata": {},
   "outputs": [],
   "source": [
    "df['tryptase_all_negative'] = df.apply(tryptase_all_negative, axis=1)"
   ]
  },
  {
   "cell_type": "code",
   "execution_count": 82,
   "metadata": {},
   "outputs": [
    {
     "data": {
      "text/html": [
       "<div>\n",
       "<style scoped>\n",
       "    .dataframe tbody tr th:only-of-type {\n",
       "        vertical-align: middle;\n",
       "    }\n",
       "\n",
       "    .dataframe tbody tr th {\n",
       "        vertical-align: top;\n",
       "    }\n",
       "\n",
       "    .dataframe thead th {\n",
       "        text-align: right;\n",
       "    }\n",
       "</style>\n",
       "<table border=\"1\" class=\"dataframe\">\n",
       "  <thead>\n",
       "    <tr style=\"text-align: right;\">\n",
       "      <th></th>\n",
       "      <th>AvgSpotLen</th>\n",
       "      <th>InsertSize</th>\n",
       "      <th>MBases</th>\n",
       "      <th>MBytes</th>\n",
       "      <th>alignment_count</th>\n",
       "      <th>alpha_wt_count</th>\n",
       "      <th>alpha_dup_count</th>\n",
       "      <th>beta_count</th>\n",
       "      <th>alpha_wt_zero_edit_count</th>\n",
       "      <th>alpha_dup_zero_edit_count</th>\n",
       "      <th>...</th>\n",
       "      <th>norm_alpha_dup_count</th>\n",
       "      <th>norm_beta_count</th>\n",
       "      <th>norm_alpha_read_covers_snps_count_exact</th>\n",
       "      <th>norm_alpha_dup_read_covers_snps_count_exact</th>\n",
       "      <th>norm_beta_read_covers_snps_count_exact</th>\n",
       "      <th>tryptase_any_positive</th>\n",
       "      <th>alpha_wt_or_alpha_dup</th>\n",
       "      <th>beta_positive_only</th>\n",
       "      <th>alpha_dup_positive</th>\n",
       "      <th>tryptase_all_negative</th>\n",
       "    </tr>\n",
       "    <tr>\n",
       "      <th>Sample_Name</th>\n",
       "      <th></th>\n",
       "      <th></th>\n",
       "      <th></th>\n",
       "      <th></th>\n",
       "      <th></th>\n",
       "      <th></th>\n",
       "      <th></th>\n",
       "      <th></th>\n",
       "      <th></th>\n",
       "      <th></th>\n",
       "      <th></th>\n",
       "      <th></th>\n",
       "      <th></th>\n",
       "      <th></th>\n",
       "      <th></th>\n",
       "      <th></th>\n",
       "      <th></th>\n",
       "      <th></th>\n",
       "      <th></th>\n",
       "      <th></th>\n",
       "      <th></th>\n",
       "    </tr>\n",
       "  </thead>\n",
       "  <tbody>\n",
       "    <tr>\n",
       "      <th>GSM1636667</th>\n",
       "      <td>200.0</td>\n",
       "      <td>0.0</td>\n",
       "      <td>9703.0</td>\n",
       "      <td>4627.5</td>\n",
       "      <td>4344.0</td>\n",
       "      <td>2353.5</td>\n",
       "      <td>1974.0</td>\n",
       "      <td>16.5</td>\n",
       "      <td>2081.0</td>\n",
       "      <td>1765.5</td>\n",
       "      <td>...</td>\n",
       "      <td>0.203450</td>\n",
       "      <td>0.001701</td>\n",
       "      <td>0.017932</td>\n",
       "      <td>0.000052</td>\n",
       "      <td>0.000103</td>\n",
       "      <td>True</td>\n",
       "      <td>True</td>\n",
       "      <td>False</td>\n",
       "      <td>True</td>\n",
       "      <td>False</td>\n",
       "    </tr>\n",
       "    <tr>\n",
       "      <th>GSM1636668</th>\n",
       "      <td>200.0</td>\n",
       "      <td>0.0</td>\n",
       "      <td>8861.0</td>\n",
       "      <td>3936.0</td>\n",
       "      <td>1516.0</td>\n",
       "      <td>39.0</td>\n",
       "      <td>39.0</td>\n",
       "      <td>1438.0</td>\n",
       "      <td>12.0</td>\n",
       "      <td>14.0</td>\n",
       "      <td>...</td>\n",
       "      <td>0.004395</td>\n",
       "      <td>0.162276</td>\n",
       "      <td>0.000000</td>\n",
       "      <td>0.000000</td>\n",
       "      <td>0.018505</td>\n",
       "      <td>True</td>\n",
       "      <td>False</td>\n",
       "      <td>True</td>\n",
       "      <td>False</td>\n",
       "      <td>False</td>\n",
       "    </tr>\n",
       "    <tr>\n",
       "      <th>GSM1636669</th>\n",
       "      <td>200.0</td>\n",
       "      <td>0.0</td>\n",
       "      <td>9030.0</td>\n",
       "      <td>4029.5</td>\n",
       "      <td>830.0</td>\n",
       "      <td>288.5</td>\n",
       "      <td>243.0</td>\n",
       "      <td>298.5</td>\n",
       "      <td>115.5</td>\n",
       "      <td>109.0</td>\n",
       "      <td>...</td>\n",
       "      <td>0.026913</td>\n",
       "      <td>0.033058</td>\n",
       "      <td>0.000111</td>\n",
       "      <td>0.000000</td>\n",
       "      <td>0.002935</td>\n",
       "      <td>True</td>\n",
       "      <td>True</td>\n",
       "      <td>False</td>\n",
       "      <td>False</td>\n",
       "      <td>False</td>\n",
       "    </tr>\n",
       "    <tr>\n",
       "      <th>GSM1636670</th>\n",
       "      <td>200.0</td>\n",
       "      <td>0.0</td>\n",
       "      <td>8345.0</td>\n",
       "      <td>4010.0</td>\n",
       "      <td>94.5</td>\n",
       "      <td>9.5</td>\n",
       "      <td>9.5</td>\n",
       "      <td>75.5</td>\n",
       "      <td>6.5</td>\n",
       "      <td>6.5</td>\n",
       "      <td>...</td>\n",
       "      <td>0.001139</td>\n",
       "      <td>0.009036</td>\n",
       "      <td>0.000000</td>\n",
       "      <td>0.000000</td>\n",
       "      <td>0.000601</td>\n",
       "      <td>True</td>\n",
       "      <td>False</td>\n",
       "      <td>True</td>\n",
       "      <td>False</td>\n",
       "      <td>False</td>\n",
       "    </tr>\n",
       "    <tr>\n",
       "      <th>GSM1636671</th>\n",
       "      <td>200.0</td>\n",
       "      <td>0.0</td>\n",
       "      <td>9658.5</td>\n",
       "      <td>4848.0</td>\n",
       "      <td>164.0</td>\n",
       "      <td>61.0</td>\n",
       "      <td>55.5</td>\n",
       "      <td>47.5</td>\n",
       "      <td>52.0</td>\n",
       "      <td>47.0</td>\n",
       "      <td>...</td>\n",
       "      <td>0.005745</td>\n",
       "      <td>0.004917</td>\n",
       "      <td>0.000260</td>\n",
       "      <td>0.000000</td>\n",
       "      <td>0.000258</td>\n",
       "      <td>True</td>\n",
       "      <td>True</td>\n",
       "      <td>False</td>\n",
       "      <td>False</td>\n",
       "      <td>False</td>\n",
       "    </tr>\n",
       "  </tbody>\n",
       "</table>\n",
       "<p>5 rows × 29 columns</p>\n",
       "</div>"
      ],
      "text/plain": [
       "             AvgSpotLen  InsertSize  MBases  MBytes  alignment_count  \\\n",
       "Sample_Name                                                            \n",
       "GSM1636667        200.0         0.0  9703.0  4627.5           4344.0   \n",
       "GSM1636668        200.0         0.0  8861.0  3936.0           1516.0   \n",
       "GSM1636669        200.0         0.0  9030.0  4029.5            830.0   \n",
       "GSM1636670        200.0         0.0  8345.0  4010.0             94.5   \n",
       "GSM1636671        200.0         0.0  9658.5  4848.0            164.0   \n",
       "\n",
       "             alpha_wt_count  alpha_dup_count  beta_count  \\\n",
       "Sample_Name                                                \n",
       "GSM1636667           2353.5           1974.0        16.5   \n",
       "GSM1636668             39.0             39.0      1438.0   \n",
       "GSM1636669            288.5            243.0       298.5   \n",
       "GSM1636670              9.5              9.5        75.5   \n",
       "GSM1636671             61.0             55.5        47.5   \n",
       "\n",
       "             alpha_wt_zero_edit_count  alpha_dup_zero_edit_count  \\\n",
       "Sample_Name                                                        \n",
       "GSM1636667                     2081.0                     1765.5   \n",
       "GSM1636668                       12.0                       14.0   \n",
       "GSM1636669                      115.5                      109.0   \n",
       "GSM1636670                        6.5                        6.5   \n",
       "GSM1636671                       52.0                       47.0   \n",
       "\n",
       "                     ...            norm_alpha_dup_count  norm_beta_count  \\\n",
       "Sample_Name          ...                                                    \n",
       "GSM1636667           ...                        0.203450         0.001701   \n",
       "GSM1636668           ...                        0.004395         0.162276   \n",
       "GSM1636669           ...                        0.026913         0.033058   \n",
       "GSM1636670           ...                        0.001139         0.009036   \n",
       "GSM1636671           ...                        0.005745         0.004917   \n",
       "\n",
       "             norm_alpha_read_covers_snps_count_exact  \\\n",
       "Sample_Name                                            \n",
       "GSM1636667                                  0.017932   \n",
       "GSM1636668                                  0.000000   \n",
       "GSM1636669                                  0.000111   \n",
       "GSM1636670                                  0.000000   \n",
       "GSM1636671                                  0.000260   \n",
       "\n",
       "             norm_alpha_dup_read_covers_snps_count_exact  \\\n",
       "Sample_Name                                                \n",
       "GSM1636667                                      0.000052   \n",
       "GSM1636668                                      0.000000   \n",
       "GSM1636669                                      0.000000   \n",
       "GSM1636670                                      0.000000   \n",
       "GSM1636671                                      0.000000   \n",
       "\n",
       "             norm_beta_read_covers_snps_count_exact  tryptase_any_positive  \\\n",
       "Sample_Name                                                                  \n",
       "GSM1636667                                 0.000103                   True   \n",
       "GSM1636668                                 0.018505                   True   \n",
       "GSM1636669                                 0.002935                   True   \n",
       "GSM1636670                                 0.000601                   True   \n",
       "GSM1636671                                 0.000258                   True   \n",
       "\n",
       "             alpha_wt_or_alpha_dup  beta_positive_only  alpha_dup_positive  \\\n",
       "Sample_Name                                                                  \n",
       "GSM1636667                    True               False                True   \n",
       "GSM1636668                   False                True               False   \n",
       "GSM1636669                    True               False               False   \n",
       "GSM1636670                   False                True               False   \n",
       "GSM1636671                    True               False               False   \n",
       "\n",
       "             tryptase_all_negative  \n",
       "Sample_Name                         \n",
       "GSM1636667                   False  \n",
       "GSM1636668                   False  \n",
       "GSM1636669                   False  \n",
       "GSM1636670                   False  \n",
       "GSM1636671                   False  \n",
       "\n",
       "[5 rows x 29 columns]"
      ]
     },
     "execution_count": 82,
     "metadata": {},
     "output_type": "execute_result"
    }
   ],
   "source": [
    "df.head()"
   ]
  },
  {
   "cell_type": "code",
   "execution_count": null,
   "metadata": {},
   "outputs": [],
   "source": [
    " "
   ]
  },
  {
   "cell_type": "code",
   "execution_count": 83,
   "metadata": {},
   "outputs": [
    {
     "name": "stdout",
     "output_type": "stream",
     "text": [
      "245\n"
     ]
    }
   ],
   "source": [
    "# Number of samples where any tryptase is postive\n",
    "n_tryptase_any_positive = df[df['tryptase_any_positive'] ==True].shape[0]\n",
    "\n",
    "print (n_tryptase_any_positive)"
   ]
  },
  {
   "cell_type": "code",
   "execution_count": 84,
   "metadata": {},
   "outputs": [
    {
     "name": "stdout",
     "output_type": "stream",
     "text": [
      "18\n"
     ]
    }
   ],
   "source": [
    "# Number of samples where all trp as negative\n",
    "\n",
    "n_tryptase_all_negative =  df[df['tryptase_all_negative'] ==True].shape[0]\n",
    "\n",
    "print (n_tryptase_all_negative)"
   ]
  },
  {
   "cell_type": "code",
   "execution_count": 85,
   "metadata": {},
   "outputs": [
    {
     "name": "stdout",
     "output_type": "stream",
     "text": [
      "142\n"
     ]
    }
   ],
   "source": [
    "# Number of samples where alpha wt or dup are positive\n",
    "\n",
    "n_alpha_wt_or_alpha_dup = df[df['alpha_wt_or_alpha_dup'] ==True].shape[0]\n",
    "\n",
    "print(n_alpha_wt_or_alpha_dup)"
   ]
  },
  {
   "cell_type": "code",
   "execution_count": 86,
   "metadata": {},
   "outputs": [
    {
     "name": "stdout",
     "output_type": "stream",
     "text": [
      "103\n"
     ]
    }
   ],
   "source": [
    "# Number of samples beta positive\n",
    "\n",
    "n_beta_positive_only = df[df['beta_positive_only'] == True].shape[0]\n",
    "print (n_beta_positive_only)"
   ]
  },
  {
   "cell_type": "code",
   "execution_count": 87,
   "metadata": {},
   "outputs": [
    {
     "name": "stdout",
     "output_type": "stream",
     "text": [
      "27\n"
     ]
    }
   ],
   "source": [
    "# Number f samples with dup only\n",
    "\n",
    "n_alpha_dup_positive = df[df['alpha_dup_positive'] ==True].shape[0]\n",
    "print(n_alpha_dup_positive)"
   ]
  },
  {
   "cell_type": "code",
   "execution_count": 88,
   "metadata": {},
   "outputs": [],
   "source": [
    "sns.set(style=\"whitegrid\")"
   ]
  },
  {
   "cell_type": "code",
   "execution_count": 89,
   "metadata": {},
   "outputs": [
    {
     "data": {
      "image/png": "[encoded data removed]",
      "text/plain": [
       "<Figure size 756x756 with 3 Axes>"
      ]
     },
     "metadata": {},
     "output_type": "display_data"
    }
   ],
   "source": [
    "\n",
    "\n",
    "fig, ax = plt.subplots(3,1)\n",
    "fig.set_size_inches(10.5, 10.5)\n",
    "\n",
    "ax[0].bar(['Tryptase Positive', 'Tryptase Negative'], [n_tryptase_any_positive,n_tryptase_all_negative ])\n",
    "ax[0].set_ylabel('N Samples', fontsize=10)\n",
    "ax[0].set_title('Tryptase Positive vs Negative', fontsize=10)\n",
    "\n",
    "ax[1].bar(['Tryptase WT and DUP Positive', 'Tryptase Beta Positive'], [n_alpha_wt_or_alpha_dup,n_beta_positive_only ])\n",
    "ax[1].set_ylabel('N Samples', fontsize=10)\n",
    "ax[1].set_title('Tryptase Alpha (WT and DUP) Positive vs Beta Tryptase Positive', fontsize=10)\n",
    "\n",
    "ax[2].bar(['Tryptase Alpha DUP Positive Only', 'Tryptase Beta Positive'], [n_alpha_dup_positive,n_beta_positive_only ])\n",
    "ax[2].set_ylabel('N Samples', fontsize=10)\n",
    "ax[2].set_title('Tryptase Alpha DUP Positive Only vs Beta Tryptase Positive', fontsize=10)\n",
    "\n",
    "\n",
    "\n",
    "plt.suptitle('Number of Samples in Each Category',y=1.02, x=0.527)\n",
    "\n",
    "plt.tight_layout()"
   ]
  },
  {
   "cell_type": "code",
   "execution_count": 90,
   "metadata": {},
   "outputs": [],
   "source": [
    "group1 = df[df['tryptase_any_positive'] ==True].index.to_frame().to_csv('group1.csv')\n",
    "group2 = df[df['tryptase_all_negative'] ==True].index.to_frame().to_csv('group2.csv')\n",
    "group3 = df[df['alpha_wt_or_alpha_dup'] ==True].index.to_frame().to_csv('group3.csv')\n",
    "group4 = df[df['alpha_dup_positive'] ==True].index.to_frame().to_csv('group4.csv')\n",
    "group5 = df[df['beta_positive_only'] ==True].index.to_frame().to_csv('group5.csv')"
   ]
  },
  {
   "cell_type": "code",
   "execution_count": null,
   "metadata": {},
   "outputs": [],
   "source": []
  },
  {
   "cell_type": "code",
   "execution_count": null,
   "metadata": {},
   "outputs": [],
   "source": []
  },
  {
   "cell_type": "code",
   "execution_count": null,
   "metadata": {},
   "outputs": [],
   "source": []
  },
  {
   "cell_type": "code",
   "execution_count": null,
   "metadata": {},
   "outputs": [],
   "source": []
  },
  {
   "cell_type": "code",
   "execution_count": null,
   "metadata": {},
   "outputs": [],
   "source": []
  },
  {
   "cell_type": "code",
   "execution_count": null,
   "metadata": {},
   "outputs": [],
   "source": []
  },
  {
   "cell_type": "code",
   "execution_count": null,
   "metadata": {},
   "outputs": [],
   "source": []
  }
 ],
 "metadata": {
  "kernelspec": {
   "display_name": "Python 3",
   "language": "python",
   "name": "python3"
  },
  "language_info": {
   "codemirror_mode": {
    "name": "ipython",
    "version": 3
   },
   "file_extension": ".py",
   "mimetype": "text/x-python",
   "name": "python",
   "nbconvert_exporter": "python",
   "pygments_lexer": "ipython3",
   "version": "3.6.6"
  }
 },
 "nbformat": 4,
 "nbformat_minor": 2
}
